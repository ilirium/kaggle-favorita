{
 "cells": [
  {
   "cell_type": "markdown",
   "metadata": {},
   "source": [
    "# Favorita Grocery Sales Forecasting"
   ]
  },
  {
   "cell_type": "markdown",
   "metadata": {},
   "source": [
    "https://www.kaggle.com/c/favorita-grocery-sales-forecasting\n",
    "\n",
    "Brick-and-mortar grocery stores are always in a delicate dance with purchasing and sales forecasting. Predict a little over, and grocers are stuck with overstocked, perishable goods. Guess a little under, and popular items quickly sell out, leaving money on the table and customers fuming.\n",
    "\n",
    "The problem becomes more complex as retailers add new locations with unique needs, new products, ever transitioning seasonal tastes, and unpredictable product marketing. Corporación Favorita, a large Ecuadorian-based grocery retailer, knows this all too well. They operate hundreds of supermarkets, with over 200,000 different products on their shelves.\n",
    "\n",
    "Corporación Favorita has challenged the Kaggle community to build a model that more accurately forecasts product sales. They currently rely on subjective forecasting methods with very little data to back them up and very little automation to execute plans. They’re excited to see how machine learning could better ensure they please customers by having just enough of the right products at the right time."
   ]
  },
  {
   "cell_type": "code",
   "execution_count": 1,
   "metadata": {
    "ExecuteTime": {
     "end_time": "2018-08-26T10:58:16.185854Z",
     "start_time": "2018-08-26T10:58:15.565427Z"
    }
   },
   "outputs": [],
   "source": [
    "%matplotlib inline\n",
    "%reload_ext autoreload\n",
    "%autoreload 2"
   ]
  },
  {
   "cell_type": "code",
   "execution_count": 2,
   "metadata": {
    "ExecuteTime": {
     "end_time": "2018-08-26T10:59:09.120659Z",
     "start_time": "2018-08-26T10:59:09.102644Z"
    }
   },
   "outputs": [],
   "source": [
    "from IPython.display import display"
   ]
  },
  {
   "cell_type": "code",
   "execution_count": 3,
   "metadata": {
    "ExecuteTime": {
     "end_time": "2018-08-26T10:59:39.391521Z",
     "start_time": "2018-08-26T10:59:36.842732Z"
    }
   },
   "outputs": [
    {
     "name": "stderr",
     "output_type": "stream",
     "text": [
      "/anaconda3/envs/fastai-cpu/lib/python3.6/site-packages/sklearn/ensemble/weight_boosting.py:29: DeprecationWarning: numpy.core.umath_tests is an internal NumPy module and should not be imported. It will be removed in a future NumPy release.\n",
      "  from numpy.core.umath_tests import inner1d\n"
     ]
    }
   ],
   "source": [
    "from fastai.structured import *\n",
    "from fastai.column_data import *\n",
    "np.set_printoptions(threshold=50, edgeitems=20)\n",
    "\n",
    "PATH='data/'"
   ]
  },
  {
   "cell_type": "code",
   "execution_count": 5,
   "metadata": {
    "ExecuteTime": {
     "end_time": "2018-08-26T11:00:21.413098Z",
     "start_time": "2018-08-26T11:00:21.361818Z"
    }
   },
   "outputs": [
    {
     "name": "stdout",
     "output_type": "stream",
     "text": [
      "0.23.4\n",
      "False\n",
      "True\n"
     ]
    }
   ],
   "source": [
    "# Small:\n",
    "# Checking some things\n",
    "\n",
    "print(pd.__version__)\n",
    "print(torch.cuda.is_available())\n",
    "print(torch.backends.cudnn.enabled)"
   ]
  },
  {
   "cell_type": "markdown",
   "metadata": {},
   "source": [
    "# Loot ar Files"
   ]
  },
  {
   "cell_type": "code",
   "execution_count": 8,
   "metadata": {
    "ExecuteTime": {
     "end_time": "2018-08-26T11:01:20.094295Z",
     "start_time": "2018-08-26T11:01:19.926509Z"
    }
   },
   "outputs": [
    {
     "name": "stdout",
     "output_type": "stream",
     "text": [
      "total 10101816\r\n",
      "-rw-r--r--  1 ilirium  staff    22K Oct 19  2017 holidays_events.csv\r\n",
      "-rw-r--r--  1 ilirium  staff    99K Oct 19  2017 items.csv\r\n",
      "-rw-r--r--  1 ilirium  staff    20K Oct 19  2017 oil.csv\r\n",
      "-rw-r--r--  1 ilirium  staff    39M Oct 19  2017 sample_submission.csv\r\n",
      "-rw-r--r--  1 ilirium  staff   1.4K Oct 19  2017 stores.csv\r\n",
      "-rw-r--r--  1 ilirium  staff   120M Oct 19  2017 test.csv\r\n",
      "-rw-r--r--  1 ilirium  staff   4.7G Oct 19  2017 train.csv\r\n",
      "-rw-r--r--  1 ilirium  staff   1.5M Oct 19  2017 transactions.csv\r\n"
     ]
    }
   ],
   "source": [
    "!ls -lh {PATH}"
   ]
  },
  {
   "cell_type": "code",
   "execution_count": 10,
   "metadata": {
    "ExecuteTime": {
     "end_time": "2018-08-26T11:02:43.487510Z",
     "start_time": "2018-08-26T11:02:43.306426Z"
    }
   },
   "outputs": [
    {
     "name": "stdout",
     "output_type": "stream",
     "text": [
      "total 970496\r\n",
      "-rw-r--r--  1 ilirium  staff   1.9K Aug 26 15:15 holidays_events.csv.7z\r\n",
      "-rw-r--r--  1 ilirium  staff    14K Aug 26 15:15 items.csv.7z\r\n",
      "-rw-r--r--  1 ilirium  staff   3.7K Aug 26 15:15 oil.csv.7z\r\n",
      "-rw-r--r--  1 ilirium  staff   651K Aug 26 15:17 sample_submission.csv.7z\r\n",
      "-rw-r--r--  1 ilirium  staff   648B Aug 26 15:15 stores.csv.7z\r\n",
      "-rw-r--r--  1 ilirium  staff   4.7M Aug 26 15:15 test.csv.7z\r\n",
      "-rw-r--r--  1 ilirium  staff   452M Aug 26 15:17 train.csv.7z\r\n",
      "-rw-r--r--  1 ilirium  staff   214K Aug 26 15:15 transactions.csv.7z\r\n"
     ]
    }
   ],
   "source": [
    "!ls -lh ~/.kaggle/competitions/favorita-grocery-sales-forecasting/"
   ]
  },
  {
   "cell_type": "code",
   "execution_count": 11,
   "metadata": {
    "ExecuteTime": {
     "end_time": "2018-08-26T11:07:52.630735Z",
     "start_time": "2018-08-26T11:07:52.575799Z"
    }
   },
   "outputs": [],
   "source": [
    "table_names = ['holidays_events.csv', 'items.csv', 'oil.csv', 'stores.csv', 'transactions.csv',\n",
    "               'test.csv', 'train.csv']"
   ]
  },
  {
   "cell_type": "markdown",
   "metadata": {},
   "source": [
    "## `train.csv`"
   ]
  },
  {
   "cell_type": "code",
   "execution_count": null,
   "metadata": {},
   "outputs": [],
   "source": []
  },
  {
   "cell_type": "code",
   "execution_count": null,
   "metadata": {},
   "outputs": [],
   "source": []
  }
 ],
 "metadata": {
  "kernelspec": {
   "display_name": "Python 3",
   "language": "python",
   "name": "python3"
  },
  "language_info": {
   "codemirror_mode": {
    "name": "ipython",
    "version": 3
   },
   "file_extension": ".py",
   "mimetype": "text/x-python",
   "name": "python",
   "nbconvert_exporter": "python",
   "pygments_lexer": "ipython3",
   "version": "3.6.6"
  },
  "toc": {
   "base_numbering": 1,
   "nav_menu": {},
   "number_sections": true,
   "sideBar": true,
   "skip_h1_title": false,
   "title_cell": "Table of Contents",
   "title_sidebar": "Contents",
   "toc_cell": false,
   "toc_position": {},
   "toc_section_display": true,
   "toc_window_display": false
  }
 },
 "nbformat": 4,
 "nbformat_minor": 2
}
