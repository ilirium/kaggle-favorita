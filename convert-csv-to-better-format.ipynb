{
 "cells": [
  {
   "cell_type": "markdown",
   "metadata": {},
   "source": [
    "# Convert CSV to the Better Format"
   ]
  },
  {
   "cell_type": "markdown",
   "metadata": {},
   "source": [
    "## Imports"
   ]
  },
  {
   "cell_type": "code",
   "execution_count": 2,
   "metadata": {
    "ExecuteTime": {
     "end_time": "2018-09-03T08:17:19.837036Z",
     "start_time": "2018-09-03T08:17:17.592480Z"
    }
   },
   "outputs": [
    {
     "name": "stderr",
     "output_type": "stream",
     "text": [
      "/anaconda3/envs/fastai-cpu/lib/python3.6/site-packages/sklearn/ensemble/weight_boosting.py:29: DeprecationWarning: numpy.core.umath_tests is an internal NumPy module and should not be imported. It will be removed in a future NumPy release.\n",
      "  from numpy.core.umath_tests import inner1d\n"
     ]
    }
   ],
   "source": [
    "# ipython config\n",
    "%matplotlib inline\n",
    "%reload_ext autoreload\n",
    "%autoreload 2\n",
    "\n",
    "# for Jupyter\n",
    "from IPython.display import display\n",
    "\n",
    "# for Fastai and PyTorch\n",
    "from fastai.structured import *\n",
    "from fastai.column_data import *\n",
    "np.set_printoptions(threshold=50, edgeitems=20)\n",
    "\n",
    "# path to data\n",
    "PATH='data/'"
   ]
  },
  {
   "cell_type": "markdown",
   "metadata": {},
   "source": [
    "## Read from CSV"
   ]
  },
  {
   "cell_type": "code",
   "execution_count": null,
   "metadata": {
    "ExecuteTime": {
     "end_time": "2018-09-03T07:06:18.467042Z",
     "start_time": "2018-09-03T07:05:28.645010Z"
    }
   },
   "outputs": [],
   "source": [
    "# CSV\n",
    "\n",
    "table_names = ['train', 'holidays_events', 'items', 'oil', 'stores', 'transactions', 'test']\n",
    "\n",
    "tables = [pd.read_csv(f'{PATH}{fname}.csv', low_memory=True) for fname in table_names]\n",
    "\n",
    "train, holidays_events, items, oil, stores, transactions, test = tables\n",
    "\n",
    "print((len(train), len(test)))"
   ]
  },
  {
   "cell_type": "markdown",
   "metadata": {},
   "source": [
    "## Save to Feather"
   ]
  },
  {
   "cell_type": "markdown",
   "metadata": {},
   "source": [
    "Feather provides binary columnar serialization for data frames. It is designed to make reading and writing data frames efficient, and to make sharing data across data analysis languages easy. This initial version comes with bindings for python (written by Wes McKinney) and R (written by Hadley Wickham).\n",
    "\n",
    "Feather uses the Apache Arrow columnar memory specification to represent binary data on disk. This makes read and write operations very fast. This is particularly important for encoding null/NA values and variable-length types like UTF8 strings.\n",
    "\n",
    "Feather is a part of the broader Apache Arrow project. Feather defines its own simplified schemas and metadata for on-disk representation.\n",
    "\n",
    "Feather currently supports the following column types:\n",
    "\n",
    "+ A wide range of numeric types (int8, int16, int32, int64, uint8, uint16, uint32, uint64, float, double).\n",
    "+ Logical/boolean values.\n",
    "+ Dates, times, and timestamps.\n",
    "+ Factors/categorical variables that have fixed set of possible values.\n",
    "+ UTF-8 encoded strings.\n",
    "+ Arbitrary binary data.\n",
    "\n",
    "All column types support NA/null values.\n",
    "\n",
    "https://github.com/wesm/feather"
   ]
  },
  {
   "cell_type": "code",
   "execution_count": null,
   "metadata": {},
   "outputs": [],
   "source": [
    "for idx, table in enumerate(tables):\n",
    "    getattr(table, 'to_feather')(f'{PATH}{table_names[idx]}.feather')\n",
    "    print(f'Table \"{table_names[idx]}\" was saved')"
   ]
  },
  {
   "cell_type": "markdown",
   "metadata": {},
   "source": [
    "## Load from Feather"
   ]
  },
  {
   "cell_type": "code",
   "execution_count": null,
   "metadata": {
    "ExecuteTime": {
     "end_time": "2018-09-03T07:09:26.854029Z",
     "start_time": "2018-09-03T07:08:54.035657Z"
    }
   },
   "outputs": [],
   "source": [
    "# Feather\n",
    "\n",
    "table_names = ['train', 'holidays_events', 'items', 'oil', 'stores', 'transactions', 'test']\n",
    "\n",
    "tables = [pd.read_feather(f'{PATH}{fname}.feather') for fname in table_names]\n",
    "\n",
    "train, holidays_events, items, oil, stores, transactions, test = tables\n",
    "\n",
    "print((len(train), len(test)))"
   ]
  },
  {
   "cell_type": "markdown",
   "metadata": {},
   "source": [
    "## Save to HDF5"
   ]
  },
  {
   "cell_type": "code",
   "execution_count": null,
   "metadata": {
    "ExecuteTime": {
     "end_time": "2018-09-03T08:02:17.300452Z",
     "start_time": "2018-09-03T07:58:23.228401Z"
    }
   },
   "outputs": [],
   "source": [
    "for idx, table in enumerate(tables):\n",
    "    getattr(table, 'to_hdf')(f'{PATH}{table_names[idx]}.h5', key='df')\n",
    "    print(f'Table \"{table_names[idx]}\" was saved')"
   ]
  },
  {
   "cell_type": "code",
   "execution_count": 3,
   "metadata": {
    "ExecuteTime": {
     "end_time": "2018-09-03T08:17:25.448142Z",
     "start_time": "2018-09-03T08:17:25.283698Z"
    }
   },
   "outputs": [
    {
     "name": "stdout",
     "output_type": "stream",
     "text": [
      "total 35348416\r\n",
      "-rw-r--r--  1 ilirium  staff    22K Oct 19  2017 holidays_events.csv\r\n",
      "-rw-r--r--  1 ilirium  staff    26K Sep  3 13:31 holidays_events.feather\r\n",
      "-rw-r--r--  1 ilirium  staff   1.0M Sep  3 15:02 holidays_events.h5\r\n",
      "-rw-r--r--  1 ilirium  staff    99K Oct 19  2017 items.csv\r\n",
      "-rw-r--r--  1 ilirium  staff   149K Sep  3 13:31 items.feather\r\n",
      "-rw-r--r--  1 ilirium  staff   1.2M Sep  3 15:02 items.h5\r\n",
      "-rw-r--r--  1 ilirium  staff    20K Oct 19  2017 oil.csv\r\n",
      "-rw-r--r--  1 ilirium  staff    27K Sep  3 13:31 oil.feather\r\n",
      "-rw-r--r--  1 ilirium  staff   1.0M Sep  3 15:02 oil.h5\r\n",
      "-rw-r--r--  1 ilirium  staff    39M Oct 19  2017 sample_submission.csv\r\n",
      "-rw-r--r--  1 ilirium  staff   1.4K Oct 19  2017 stores.csv\r\n",
      "-rw-r--r--  1 ilirium  staff   2.9K Sep  3 13:31 stores.feather\r\n",
      "-rw-r--r--  1 ilirium  staff   1.0M Sep  3 15:02 stores.h5\r\n",
      "-rw-r--r--  1 ilirium  staff   120M Oct 19  2017 test.csv\r\n",
      "-rw-r--r--  1 ilirium  staff   123M Sep  3 13:31 test.feather\r\n",
      "-rw-r--r--  1 ilirium  staff   149M Sep  3 15:02 test.h5\r\n",
      "-rw-r--r--  1 ilirium  staff   4.7G Oct 19  2017 train.csv\r\n",
      "-rw-r--r--  1 ilirium  staff   5.4G Sep  3 13:31 train.feather\r\n",
      "-rw-r--r--  1 ilirium  staff   6.3G Sep  3 15:02 train.h5\r\n",
      "-rw-r--r--  1 ilirium  staff   1.5M Oct 19  2017 transactions.csv\r\n",
      "-rw-r--r--  1 ilirium  staff   2.4M Sep  3 13:31 transactions.feather\r\n",
      "-rw-r--r--  1 ilirium  staff   4.0M Sep  3 15:02 transactions.h5\r\n"
     ]
    }
   ],
   "source": [
    "!ls -lh {PATH}"
   ]
  },
  {
   "cell_type": "markdown",
   "metadata": {},
   "source": [
    "## Load from HDF5"
   ]
  },
  {
   "cell_type": "code",
   "execution_count": null,
   "metadata": {
    "ExecuteTime": {
     "end_time": "2018-09-03T08:09:39.736166Z",
     "start_time": "2018-09-03T08:08:08.394555Z"
    }
   },
   "outputs": [],
   "source": [
    "# HDF5\n",
    "\n",
    "table_names = ['train', 'holidays_events', 'items', 'oil', 'stores', 'transactions', 'test']\n",
    "\n",
    "tables = [pd.read_hdf(f'{PATH}{fname}.h5') for fname in table_names]\n",
    "\n",
    "train, holidays_events, items, oil, stores, transactions, test = tables\n",
    "\n",
    "print((len(train), len(test)))"
   ]
  },
  {
   "cell_type": "markdown",
   "metadata": {},
   "source": [
    "##  Save to Parquet"
   ]
  },
  {
   "cell_type": "markdown",
   "metadata": {},
   "source": [
    "+ Parquet format is designed for long-term storage, where Arrow is more intended for short term or ephemeral storage (Arrow may be more suitable for long-term storage after the 1.0.0 release happens, since the binary format will be stable then)\n",
    "\n",
    "+ Parquet is more expensive to write than Feather as it features more layers of encoding and compression. Feather is unmodified raw columnar Arrow memory. We will probably add simple compression to Feather in the future.\n",
    "\n",
    "+ Due to dictionary encoding, RLE encoding, and data page compression, Parquet files will often be much smaller than Feather files\n",
    "\n",
    "+ Parquet is a standard storage format for analytics that's supported by many different systems: Spark, Hive, Impala, various AWS services, in future by BigQuery, etc. So if you are doing analytics, Parquet is a good option as a reference storage format for query by multiple systems\n",
    "\n",
    "https://stackoverflow.com/questions/48083405/what-are-the-differences-between-feather-and-parquet"
   ]
  },
  {
   "cell_type": "markdown",
   "metadata": {},
   "source": [
    "## Resulst"
   ]
  },
  {
   "cell_type": "markdown",
   "metadata": {},
   "source": [
    "Read all files from:\n",
    "\n",
    "+ CSV ~ `1 min 35 sec`\n",
    "+ Feather ~ `0 min 35 sec`\n",
    "+ HDF5 ~ `1 min 32 sec`"
   ]
  },
  {
   "cell_type": "markdown",
   "metadata": {},
   "source": [
    "`total 35348416\n",
    "-rw-r--r--  1 ilirium  staff    22K Oct 19  2017 holidays_events.csv\n",
    "-rw-r--r--  1 ilirium  staff    26K Sep  3 13:31 holidays_events.feather\n",
    "-rw-r--r--  1 ilirium  staff   1.0M Sep  3 15:02 holidays_events.h5\n",
    "-rw-r--r--  1 ilirium  staff    99K Oct 19  2017 items.csv\n",
    "-rw-r--r--  1 ilirium  staff   149K Sep  3 13:31 items.feather\n",
    "-rw-r--r--  1 ilirium  staff   1.2M Sep  3 15:02 items.h5\n",
    "-rw-r--r--  1 ilirium  staff    20K Oct 19  2017 oil.csv\n",
    "-rw-r--r--  1 ilirium  staff    27K Sep  3 13:31 oil.feather\n",
    "-rw-r--r--  1 ilirium  staff   1.0M Sep  3 15:02 oil.h5\n",
    "-rw-r--r--  1 ilirium  staff    39M Oct 19  2017 sample_submission.csv\n",
    "-rw-r--r--  1 ilirium  staff   1.4K Oct 19  2017 stores.csv\n",
    "-rw-r--r--  1 ilirium  staff   2.9K Sep  3 13:31 stores.feather\n",
    "-rw-r--r--  1 ilirium  staff   1.0M Sep  3 15:02 stores.h5\n",
    "-rw-r--r--  1 ilirium  staff   120M Oct 19  2017 test.csv\n",
    "-rw-r--r--  1 ilirium  staff   123M Sep  3 13:31 test.feather\n",
    "-rw-r--r--  1 ilirium  staff   149M Sep  3 15:02 test.h5\n",
    "-rw-r--r--  1 ilirium  staff   4.7G Oct 19  2017 train.csv\n",
    "-rw-r--r--  1 ilirium  staff   5.4G Sep  3 13:31 train.feather\n",
    "-rw-r--r--  1 ilirium  staff   6.3G Sep  3 15:02 train.h5\n",
    "-rw-r--r--  1 ilirium  staff   1.5M Oct 19  2017 transactions.csv\n",
    "-rw-r--r--  1 ilirium  staff   2.4M Sep  3 13:31 transactions.feather\n",
    "-rw-r--r--  1 ilirium  staff   4.0M Sep  3 15:02 transactions.h5\n",
    "`"
   ]
  }
 ],
 "metadata": {
  "kernelspec": {
   "display_name": "Python 3",
   "language": "python",
   "name": "python3"
  },
  "language_info": {
   "codemirror_mode": {
    "name": "ipython",
    "version": 3
   },
   "file_extension": ".py",
   "mimetype": "text/x-python",
   "name": "python",
   "nbconvert_exporter": "python",
   "pygments_lexer": "ipython3",
   "version": "3.6.6"
  },
  "toc": {
   "base_numbering": 1,
   "nav_menu": {},
   "number_sections": true,
   "sideBar": true,
   "skip_h1_title": false,
   "title_cell": "Table of Contents",
   "title_sidebar": "Contents",
   "toc_cell": false,
   "toc_position": {},
   "toc_section_display": true,
   "toc_window_display": true
  }
 },
 "nbformat": 4,
 "nbformat_minor": 2
}
