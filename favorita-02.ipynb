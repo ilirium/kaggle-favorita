{
 "cells": [
  {
   "cell_type": "markdown",
   "metadata": {},
   "source": [
    "# Favorita Grocery Sales Forecasting"
   ]
  },
  {
   "cell_type": "markdown",
   "metadata": {},
   "source": [
    "https://www.kaggle.com/c/favorita-grocery-sales-forecasting\n",
    "\n",
    "Brick-and-mortar grocery stores are always in a delicate dance with purchasing and sales forecasting. Predict a little over, and grocers are stuck with overstocked, perishable goods. Guess a little under, and popular items quickly sell out, leaving money on the table and customers fuming.\n",
    "\n",
    "The problem becomes more complex as retailers add new locations with unique needs, new products, ever transitioning seasonal tastes, and unpredictable product marketing. Corporación Favorita, a large Ecuadorian-based grocery retailer, knows this all too well. They operate hundreds of supermarkets, with over 200,000 different products on their shelves.\n",
    "\n",
    "Corporación Favorita has challenged the Kaggle community to build a model that more accurately forecasts product sales. They currently rely on subjective forecasting methods with very little data to back them up and very little automation to execute plans. They’re excited to see how machine learning could better ensure they please customers by having just enough of the right products at the right time."
   ]
  },
  {
   "cell_type": "code",
   "execution_count": 60,
   "metadata": {
    "ExecuteTime": {
     "end_time": "2018-09-26T11:32:55.589788Z",
     "start_time": "2018-09-26T11:32:55.508482Z"
    }
   },
   "outputs": [],
   "source": [
    "%matplotlib inline\n",
    "%reload_ext autoreload\n",
    "%autoreload 2"
   ]
  },
  {
   "cell_type": "code",
   "execution_count": 61,
   "metadata": {
    "ExecuteTime": {
     "end_time": "2018-09-26T11:32:57.752751Z",
     "start_time": "2018-09-26T11:32:57.706063Z"
    }
   },
   "outputs": [],
   "source": [
    "# for Jupyter\n",
    "from IPython.display import display\n",
    "\n",
    "# for Fastai and PyTorch\n",
    "from fastai.structured import *\n",
    "from fastai.column_data import *\n",
    "np.set_printoptions(threshold=50, edgeitems=20)\n",
    "\n",
    "# path to data\n",
    "PATH='data/'"
   ]
  },
  {
   "cell_type": "code",
   "execution_count": 62,
   "metadata": {
    "ExecuteTime": {
     "end_time": "2018-09-26T11:33:00.088098Z",
     "start_time": "2018-09-26T11:33:00.035306Z"
    }
   },
   "outputs": [
    {
     "name": "stdout",
     "output_type": "stream",
     "text": [
      "0.22.0\n",
      "True\n",
      "True\n"
     ]
    }
   ],
   "source": [
    "# Small:\n",
    "# Checking some things\n",
    "\n",
    "print(pd.__version__)\n",
    "print(torch.cuda.is_available())\n",
    "print(torch.backends.cudnn.enabled)"
   ]
  },
  {
   "cell_type": "code",
   "execution_count": 63,
   "metadata": {
    "ExecuteTime": {
     "end_time": "2018-09-26T11:33:02.333807Z",
     "start_time": "2018-09-26T11:33:02.166575Z"
    }
   },
   "outputs": [
    {
     "name": "stdout",
     "output_type": "stream",
     "text": [
      "df_all_csv.feather\t oil.feather\t\ttrain.csv\r\n",
      "holidays_events.csv\t sample_submission.csv\ttrain.feather\r\n",
      "holidays_events.feather  stores.csv\t\ttransactions.csv\r\n",
      "items.csv\t\t stores.feather\t\ttransactions.feather\r\n",
      "items.feather\t\t test.csv\r\n",
      "oil.csv\t\t\t test.feather\r\n"
     ]
    }
   ],
   "source": [
    "!ls {PATH}"
   ]
  },
  {
   "cell_type": "markdown",
   "metadata": {},
   "source": [
    "# Functions"
   ]
  },
  {
   "cell_type": "code",
   "execution_count": 67,
   "metadata": {
    "ExecuteTime": {
     "end_time": "2018-09-26T11:33:39.294721Z",
     "start_time": "2018-09-26T11:33:39.241379Z"
    }
   },
   "outputs": [
    {
     "name": "stdout",
     "output_type": "stream",
     "text": [
      "\u001b[1mHello World !\u001b[0m\n"
     ]
    }
   ],
   "source": [
    "class color:\n",
    "   PURPLE = '\\033[95m'\n",
    "   CYAN = '\\033[96m'\n",
    "   DARKCYAN = '\\033[36m'\n",
    "   BLUE = '\\033[94m'\n",
    "   GREEN = '\\033[92m'\n",
    "   YELLOW = '\\033[93m'\n",
    "   RED = '\\033[91m'\n",
    "   BOLD = '\\033[1m'\n",
    "   UNDERLINE = '\\033[4m'\n",
    "   END = '\\033[0m'\n",
    "\n",
    "print(color.BOLD + 'Hello World !' + color.END)"
   ]
  },
  {
   "cell_type": "code",
   "execution_count": 68,
   "metadata": {
    "ExecuteTime": {
     "end_time": "2018-09-26T11:33:40.810932Z",
     "start_time": "2018-09-26T11:33:40.769048Z"
    }
   },
   "outputs": [],
   "source": [
    "def mem_usage(df):\n",
    "    sizes = list(df.memory_usage(deep=True) / 1024 ** 2)[1:]\n",
    "    types = [t.name for t in df.dtypes]\n",
    "    cols = list(df.columns)\n",
    "    \n",
    "    mem = pd.DataFrame({'columns': cols, 'size': sizes, 'type': types})\n",
    "    \n",
    "    return mem"
   ]
  },
  {
   "cell_type": "code",
   "execution_count": 69,
   "metadata": {
    "ExecuteTime": {
     "end_time": "2018-09-26T11:33:42.954807Z",
     "start_time": "2018-09-26T11:33:42.911405Z"
    }
   },
   "outputs": [],
   "source": [
    "def missing_values(df, print_flag=True):\n",
    "    output = []\n",
    "    for col in df.columns:\n",
    "        a = len(df[col])\n",
    "        b = len(df[df[col].isna()])\n",
    "        if b != 0:\n",
    "            if print_flag:\n",
    "                print(f'For the \"{col}\" column, all records = {a}, with NA = {b}, good = {a-b}')\n",
    "            else:\n",
    "                output.append(col)\n",
    "                \n",
    "    return output"
   ]
  },
  {
   "cell_type": "code",
   "execution_count": 70,
   "metadata": {
    "ExecuteTime": {
     "end_time": "2018-09-26T11:33:45.301226Z",
     "start_time": "2018-09-26T11:33:45.260071Z"
    }
   },
   "outputs": [],
   "source": [
    "def count_by_value(df, col, value):\n",
    "    return len(df.loc[df[col] == value])"
   ]
  },
  {
   "cell_type": "code",
   "execution_count": 71,
   "metadata": {
    "ExecuteTime": {
     "end_time": "2018-09-26T11:33:46.536573Z",
     "start_time": "2018-09-26T11:33:46.494649Z"
    }
   },
   "outputs": [],
   "source": [
    "def count_all_categories(df, col, num=5):\n",
    "    cats = list(df[col].cat.categories)\n",
    "    if len(cats) <= num:\n",
    "        for cat in cats:\n",
    "            print(f'\"{cat}\" has {count_by_value(df, col, cat)} records')\n",
    "    else:\n",
    "        print(f'The number of categories is {len(cats)}.')\n",
    "        print(f'First {num} categories are: {cats[:num]}.')\n",
    "        print(f'The category \"Unknown\" has {count_by_value(df, col, \"Unknown\")} records.')\n",
    "        \n",
    "    print(f'\"NA\" has {len(df[df[col].isna()])} records.')"
   ]
  },
  {
   "cell_type": "code",
   "execution_count": 81,
   "metadata": {
    "ExecuteTime": {
     "end_time": "2018-09-26T11:36:52.767801Z",
     "start_time": "2018-09-26T11:36:52.718639Z"
    }
   },
   "outputs": [],
   "source": [
    "def check_unknown(df, col, unknown):\n",
    "    if unknown in list(df[col].cat.categories):\n",
    "        unknown += '0'\n",
    "        unknown = check_unknown(df, col, unknown)\n",
    "    return unknown\n",
    "            \n",
    "def fill_na_categories(df):\n",
    "    columns = missing_values(df, print_flag=False)\n",
    "    for col in columns:\n",
    "        if 'category' == str(df[col].dtype):\n",
    "            unknown = check_unknown(df, col, 'Unknown')\n",
    "            df[col].cat.add_categories(unknown, inplace=True)\n",
    "            df[col] = df[col].fillna(unknown)\n",
    "        print(f'In \"{col}\" NA\\'s was filled by \"{unknown}\" value')\n",
    "        \n",
    "def fill_na_numerical(df, strategy='zero'):\n",
    "    columns = missing_values(df, print_flag=False)\n",
    "    for col in columns:\n",
    "        if 'category' != str(df[col].dtype):\n",
    "            unknown = 0\n",
    "            df[col] = df[col].fillna(unknown)\n",
    "        print(f'In \"{col}\" NA\\'s was filled by \"{unknown}\" value')"
   ]
  },
  {
   "cell_type": "code",
   "execution_count": 73,
   "metadata": {
    "ExecuteTime": {
     "end_time": "2018-09-26T11:33:51.096780Z",
     "start_time": "2018-09-26T11:33:51.055081Z"
    }
   },
   "outputs": [],
   "source": [
    "def show_categories(df):\n",
    "    for col in df.columns:\n",
    "        if 'category' == str(df[col].dtype):\n",
    "            print(f'The {color.BOLD}\"{col}\"{color.END} column has several categories')\n",
    "            count_all_categories(df, col)\n",
    "            print('\\n')"
   ]
  },
  {
   "cell_type": "code",
   "execution_count": null,
   "metadata": {},
   "outputs": [],
   "source": []
  },
  {
   "cell_type": "code",
   "execution_count": null,
   "metadata": {},
   "outputs": [],
   "source": []
  },
  {
   "cell_type": "markdown",
   "metadata": {},
   "source": [
    "# Read into Vars from Feather"
   ]
  },
  {
   "cell_type": "code",
   "execution_count": 12,
   "metadata": {
    "ExecuteTime": {
     "end_time": "2018-09-26T11:20:46.519069Z",
     "start_time": "2018-09-26T11:20:35.910532Z"
    }
   },
   "outputs": [],
   "source": [
    "# 0 - train\n",
    "# 1 - holidat_events\n",
    "# 2 - items\n",
    "# 3 - oil\n",
    "# 4 - stores\n",
    "# 5 - transactions\n",
    "# 6 - test\n",
    "\n",
    "\n",
    "table_names = ['train', 'holidays_events', 'items', 'oil', 'stores', 'transactions', 'test']\n",
    "\n",
    "tables = [pd.read_feather(f'{PATH}{fname}.feather') for fname in table_names]"
   ]
  },
  {
   "cell_type": "code",
   "execution_count": 13,
   "metadata": {
    "ExecuteTime": {
     "end_time": "2018-09-26T11:20:46.546844Z",
     "start_time": "2018-09-26T11:20:46.521748Z"
    }
   },
   "outputs": [
    {
     "name": "stdout",
     "output_type": "stream",
     "text": [
      "(125497040, 3370464)\n"
     ]
    }
   ],
   "source": [
    "train, holidays_events, items, oil, stores, transactions, test = tables\n",
    "\n",
    "print((len(train), len(test)))"
   ]
  },
  {
   "cell_type": "code",
   "execution_count": 14,
   "metadata": {
    "ExecuteTime": {
     "end_time": "2018-09-26T11:20:46.578980Z",
     "start_time": "2018-09-26T11:20:46.549092Z"
    }
   },
   "outputs": [
    {
     "data": {
      "text/plain": [
       "7"
      ]
     },
     "metadata": {},
     "output_type": "display_data"
    },
    {
     "data": {
      "text/plain": [
       "list"
      ]
     },
     "metadata": {},
     "output_type": "display_data"
    },
    {
     "data": {
      "text/plain": [
       "pandas.core.frame.DataFrame"
      ]
     },
     "metadata": {},
     "output_type": "display_data"
    }
   ],
   "source": [
    "display(len(tables))\n",
    "display(type(tables))\n",
    "display(type(tables[0]))"
   ]
  },
  {
   "cell_type": "markdown",
   "metadata": {},
   "source": [
    "## Memory Consumption"
   ]
  },
  {
   "cell_type": "code",
   "execution_count": 15,
   "metadata": {
    "ExecuteTime": {
     "end_time": "2018-09-26T11:20:46.633741Z",
     "start_time": "2018-09-26T11:20:46.581776Z"
    }
   },
   "outputs": [
    {
     "name": "stdout",
     "output_type": "stream",
     "text": [
      "<class 'pandas.core.frame.DataFrame'>\n",
      "RangeIndex: 125497040 entries, 0 to 125497039\n",
      "Data columns (total 6 columns):\n",
      "id             uint32\n",
      "date           category\n",
      "store_nbr      category\n",
      "item_nbr       category\n",
      "unit_sales     category\n",
      "onpromotion    category\n",
      "dtypes: category(5), uint32(1)\n",
      "memory usage: 1.7 GB\n"
     ]
    }
   ],
   "source": [
    "train.info(memory_usage='deep')"
   ]
  },
  {
   "cell_type": "code",
   "execution_count": 16,
   "metadata": {
    "ExecuteTime": {
     "end_time": "2018-09-26T11:20:46.670322Z",
     "start_time": "2018-09-26T11:20:46.636924Z"
    }
   },
   "outputs": [
    {
     "name": "stdout",
     "output_type": "stream",
     "text": [
      "<class 'pandas.core.frame.DataFrame'>\n",
      "RangeIndex: 350 entries, 0 to 349\n",
      "Data columns (total 6 columns):\n",
      "date           350 non-null category\n",
      "type           350 non-null category\n",
      "locale         350 non-null category\n",
      "locale_name    350 non-null category\n",
      "description    350 non-null category\n",
      "transferred    350 non-null category\n",
      "dtypes: category(6)\n",
      "memory usage: 49.0 KB\n"
     ]
    }
   ],
   "source": [
    "holidays_events.info(memory_usage='deep')"
   ]
  },
  {
   "cell_type": "code",
   "execution_count": 17,
   "metadata": {
    "ExecuteTime": {
     "end_time": "2018-09-26T11:20:46.711338Z",
     "start_time": "2018-09-26T11:20:46.672934Z"
    }
   },
   "outputs": [
    {
     "name": "stdout",
     "output_type": "stream",
     "text": [
      "<class 'pandas.core.frame.DataFrame'>\n",
      "RangeIndex: 4100 entries, 0 to 4099\n",
      "Data columns (total 4 columns):\n",
      "item_nbr      4100 non-null category\n",
      "family        4100 non-null category\n",
      "class         4100 non-null category\n",
      "perishable    4100 non-null category\n",
      "dtypes: category(4)\n",
      "memory usage: 472.7 KB\n"
     ]
    }
   ],
   "source": [
    "items.info(memory_usage='deep')"
   ]
  },
  {
   "cell_type": "code",
   "execution_count": 18,
   "metadata": {
    "ExecuteTime": {
     "end_time": "2018-09-26T11:20:46.745144Z",
     "start_time": "2018-09-26T11:20:46.713937Z"
    }
   },
   "outputs": [
    {
     "name": "stdout",
     "output_type": "stream",
     "text": [
      "<class 'pandas.core.frame.DataFrame'>\n",
      "RangeIndex: 1218 entries, 0 to 1217\n",
      "Data columns (total 2 columns):\n",
      "date          1218 non-null category\n",
      "dcoilwtico    1175 non-null float32\n",
      "dtypes: category(1), float32(1)\n",
      "memory usage: 126.9 KB\n"
     ]
    }
   ],
   "source": [
    "oil.info(memory_usage='deep')"
   ]
  },
  {
   "cell_type": "code",
   "execution_count": 19,
   "metadata": {
    "ExecuteTime": {
     "end_time": "2018-09-26T11:20:46.775193Z",
     "start_time": "2018-09-26T11:20:46.747646Z"
    }
   },
   "outputs": [
    {
     "name": "stdout",
     "output_type": "stream",
     "text": [
      "<class 'pandas.core.frame.DataFrame'>\n",
      "RangeIndex: 54 entries, 0 to 53\n",
      "Data columns (total 5 columns):\n",
      "store_nbr    54 non-null category\n",
      "city         54 non-null category\n",
      "state        54 non-null category\n",
      "type         54 non-null category\n",
      "cluster      54 non-null category\n",
      "dtypes: category(5)\n",
      "memory usage: 11.8 KB\n"
     ]
    }
   ],
   "source": [
    "stores.info(memory_usage='deep')"
   ]
  },
  {
   "cell_type": "code",
   "execution_count": 20,
   "metadata": {
    "ExecuteTime": {
     "end_time": "2018-09-26T11:20:46.824690Z",
     "start_time": "2018-09-26T11:20:46.778067Z"
    }
   },
   "outputs": [
    {
     "name": "stdout",
     "output_type": "stream",
     "text": [
      "<class 'pandas.core.frame.DataFrame'>\n",
      "RangeIndex: 83488 entries, 0 to 83487\n",
      "Data columns (total 3 columns):\n",
      "date            83488 non-null category\n",
      "store_nbr       83488 non-null category\n",
      "transactions    83488 non-null category\n",
      "dtypes: category(3)\n",
      "memory usage: 1.0 MB\n"
     ]
    }
   ],
   "source": [
    "transactions.info(memory_usage='deep')"
   ]
  },
  {
   "cell_type": "markdown",
   "metadata": {},
   "source": [
    "# Join multiple CSV to one DF"
   ]
  },
  {
   "cell_type": "code",
   "execution_count": null,
   "metadata": {
    "ExecuteTime": {
     "end_time": "2018-09-26T11:32:46.480631Z",
     "start_time": "2018-09-26T11:21:11.345Z"
    }
   },
   "outputs": [],
   "source": [
    "## Convert Date to Date type"
   ]
  },
  {
   "cell_type": "markdown",
   "metadata": {},
   "source": [
    "**It does not need. Much effective to use feather files with categorical columns for date.**"
   ]
  },
  {
   "cell_type": "code",
   "execution_count": 21,
   "metadata": {
    "ExecuteTime": {
     "end_time": "2018-09-26T11:20:46.854748Z",
     "start_time": "2018-09-26T11:20:46.826864Z"
    }
   },
   "outputs": [],
   "source": [
    "# # 0 - train\n",
    "# train['date'] = pd.to_datetime(train.date)\n",
    "\n",
    "# # 1 - holidat_events\n",
    "# holidays_events['date'] = pd.to_datetime(holidays_events.date)\n",
    "\n",
    "# # 2 - items\n",
    "# # It doesn't have the date field.\n",
    "\n",
    "# # 3 - oil\n",
    "# oil['date'] = pd.to_datetime(oil.date)\n",
    "\n",
    "# # 4 - stores\n",
    "# # It doesn't have the date field.\n",
    "\n",
    "# # 5 - transactions\n",
    "# transactions['date'] = pd.to_datetime(transactions.date)\n",
    "\n",
    "# # 6 - test\n",
    "# test['date'] = pd.to_datetime(test.date)"
   ]
  },
  {
   "cell_type": "markdown",
   "metadata": {},
   "source": [
    "## Join Train and Stores"
   ]
  },
  {
   "cell_type": "code",
   "execution_count": 22,
   "metadata": {
    "ExecuteTime": {
     "end_time": "2018-09-26T11:20:46.883490Z",
     "start_time": "2018-09-26T11:20:46.857843Z"
    }
   },
   "outputs": [],
   "source": [
    "def join_df(left, right, left_on, right_on=None, suffix='_y'):\n",
    "    if right_on is None:\n",
    "        right_on = left_on\n",
    "\n",
    "    return left.merge(right, how='left', left_on=left_on, right_on=right_on, \n",
    "                      suffixes=(\"\", suffix))"
   ]
  },
  {
   "cell_type": "code",
   "execution_count": 23,
   "metadata": {
    "ExecuteTime": {
     "end_time": "2018-09-26T11:20:46.935865Z",
     "start_time": "2018-09-26T11:20:46.886526Z"
    }
   },
   "outputs": [
    {
     "data": {
      "text/html": [
       "<div>\n",
       "<style scoped>\n",
       "    .dataframe tbody tr th:only-of-type {\n",
       "        vertical-align: middle;\n",
       "    }\n",
       "\n",
       "    .dataframe tbody tr th {\n",
       "        vertical-align: top;\n",
       "    }\n",
       "\n",
       "    .dataframe thead th {\n",
       "        text-align: right;\n",
       "    }\n",
       "</style>\n",
       "<table border=\"1\" class=\"dataframe\">\n",
       "  <thead>\n",
       "    <tr style=\"text-align: right;\">\n",
       "      <th></th>\n",
       "      <th>City Name</th>\n",
       "      <th>Value1</th>\n",
       "    </tr>\n",
       "  </thead>\n",
       "  <tbody>\n",
       "    <tr>\n",
       "      <th>0</th>\n",
       "      <td>Tomsk</td>\n",
       "      <td>1</td>\n",
       "    </tr>\n",
       "    <tr>\n",
       "      <th>1</th>\n",
       "      <td>Omsk</td>\n",
       "      <td>2</td>\n",
       "    </tr>\n",
       "    <tr>\n",
       "      <th>2</th>\n",
       "      <td>Moscow</td>\n",
       "      <td>3</td>\n",
       "    </tr>\n",
       "  </tbody>\n",
       "</table>\n",
       "</div>"
      ],
      "text/plain": [
       "  City Name  Value1\n",
       "0     Tomsk       1\n",
       "1      Omsk       2\n",
       "2    Moscow       3"
      ]
     },
     "metadata": {},
     "output_type": "display_data"
    },
    {
     "data": {
      "text/html": [
       "<div>\n",
       "<style scoped>\n",
       "    .dataframe tbody tr th:only-of-type {\n",
       "        vertical-align: middle;\n",
       "    }\n",
       "\n",
       "    .dataframe tbody tr th {\n",
       "        vertical-align: top;\n",
       "    }\n",
       "\n",
       "    .dataframe thead th {\n",
       "        text-align: right;\n",
       "    }\n",
       "</style>\n",
       "<table border=\"1\" class=\"dataframe\">\n",
       "  <thead>\n",
       "    <tr style=\"text-align: right;\">\n",
       "      <th></th>\n",
       "      <th>Cities</th>\n",
       "      <th>Value2</th>\n",
       "    </tr>\n",
       "  </thead>\n",
       "  <tbody>\n",
       "    <tr>\n",
       "      <th>0</th>\n",
       "      <td>Moscow</td>\n",
       "      <td>q</td>\n",
       "    </tr>\n",
       "    <tr>\n",
       "      <th>1</th>\n",
       "      <td>Tomsk</td>\n",
       "      <td>w</td>\n",
       "    </tr>\n",
       "    <tr>\n",
       "      <th>2</th>\n",
       "      <td>Omsk</td>\n",
       "      <td>e</td>\n",
       "    </tr>\n",
       "  </tbody>\n",
       "</table>\n",
       "</div>"
      ],
      "text/plain": [
       "   Cities Value2\n",
       "0  Moscow      q\n",
       "1   Tomsk      w\n",
       "2    Omsk      e"
      ]
     },
     "metadata": {},
     "output_type": "display_data"
    },
    {
     "data": {
      "text/html": [
       "<div>\n",
       "<style scoped>\n",
       "    .dataframe tbody tr th:only-of-type {\n",
       "        vertical-align: middle;\n",
       "    }\n",
       "\n",
       "    .dataframe tbody tr th {\n",
       "        vertical-align: top;\n",
       "    }\n",
       "\n",
       "    .dataframe thead th {\n",
       "        text-align: right;\n",
       "    }\n",
       "</style>\n",
       "<table border=\"1\" class=\"dataframe\">\n",
       "  <thead>\n",
       "    <tr style=\"text-align: right;\">\n",
       "      <th></th>\n",
       "      <th>City Name</th>\n",
       "      <th>Value1</th>\n",
       "      <th>Cities</th>\n",
       "      <th>Value2</th>\n",
       "    </tr>\n",
       "  </thead>\n",
       "  <tbody>\n",
       "    <tr>\n",
       "      <th>0</th>\n",
       "      <td>Tomsk</td>\n",
       "      <td>1</td>\n",
       "      <td>Tomsk</td>\n",
       "      <td>w</td>\n",
       "    </tr>\n",
       "    <tr>\n",
       "      <th>1</th>\n",
       "      <td>Omsk</td>\n",
       "      <td>2</td>\n",
       "      <td>Omsk</td>\n",
       "      <td>e</td>\n",
       "    </tr>\n",
       "    <tr>\n",
       "      <th>2</th>\n",
       "      <td>Moscow</td>\n",
       "      <td>3</td>\n",
       "      <td>Moscow</td>\n",
       "      <td>q</td>\n",
       "    </tr>\n",
       "  </tbody>\n",
       "</table>\n",
       "</div>"
      ],
      "text/plain": [
       "  City Name  Value1  Cities Value2\n",
       "0     Tomsk       1   Tomsk      w\n",
       "1      Omsk       2    Omsk      e\n",
       "2    Moscow       3  Moscow      q"
      ]
     },
     "metadata": {},
     "output_type": "display_data"
    }
   ],
   "source": [
    "# Small Example to show how does the join_df function work\n",
    "\n",
    "a = {'City Name': ['Tomsk', 'Omsk', 'Moscow'],\n",
    "     'Value1': [1, 2, 3]}\n",
    "\n",
    "b = {'Cities': ['Moscow', 'Tomsk', 'Omsk'],\n",
    "     'Value2': ['q', 'w', 'e']}\n",
    "\n",
    "a_df = pd.DataFrame(a)\n",
    "b_df = pd.DataFrame(b)\n",
    "c_df = join_df(a_df, b_df, \"City Name\", \"Cities\")\n",
    "\n",
    "for t in [a_df, b_df, c_df]:\n",
    "    display(t)"
   ]
  },
  {
   "cell_type": "code",
   "execution_count": 24,
   "metadata": {
    "ExecuteTime": {
     "end_time": "2018-09-26T11:20:46.969422Z",
     "start_time": "2018-09-26T11:20:46.938488Z"
    }
   },
   "outputs": [
    {
     "data": {
      "text/plain": [
       "Index(['id', 'date', 'store_nbr', 'item_nbr', 'unit_sales', 'onpromotion'], dtype='object')"
      ]
     },
     "metadata": {},
     "output_type": "display_data"
    },
    {
     "data": {
      "text/plain": [
       "Index(['store_nbr', 'city', 'state', 'type', 'cluster'], dtype='object')"
      ]
     },
     "metadata": {},
     "output_type": "display_data"
    }
   ],
   "source": [
    "display(train.columns)\n",
    "display(stores.columns)"
   ]
  },
  {
   "cell_type": "code",
   "execution_count": 25,
   "metadata": {
    "ExecuteTime": {
     "end_time": "2018-09-26T11:21:26.767840Z",
     "start_time": "2018-09-26T11:20:46.972357Z"
    }
   },
   "outputs": [],
   "source": [
    "df = join_df(train, stores, 'store_nbr', 'store_nbr')"
   ]
  },
  {
   "cell_type": "code",
   "execution_count": 26,
   "metadata": {
    "ExecuteTime": {
     "end_time": "2018-09-26T11:21:26.813858Z",
     "start_time": "2018-09-26T11:21:26.770153Z"
    }
   },
   "outputs": [
    {
     "data": {
      "text/html": [
       "<div>\n",
       "<style scoped>\n",
       "    .dataframe tbody tr th:only-of-type {\n",
       "        vertical-align: middle;\n",
       "    }\n",
       "\n",
       "    .dataframe tbody tr th {\n",
       "        vertical-align: top;\n",
       "    }\n",
       "\n",
       "    .dataframe thead th {\n",
       "        text-align: right;\n",
       "    }\n",
       "</style>\n",
       "<table border=\"1\" class=\"dataframe\">\n",
       "  <thead>\n",
       "    <tr style=\"text-align: right;\">\n",
       "      <th></th>\n",
       "      <th>id</th>\n",
       "      <th>date</th>\n",
       "      <th>store_nbr</th>\n",
       "      <th>item_nbr</th>\n",
       "      <th>unit_sales</th>\n",
       "      <th>onpromotion</th>\n",
       "      <th>city</th>\n",
       "      <th>state</th>\n",
       "      <th>type</th>\n",
       "      <th>cluster</th>\n",
       "    </tr>\n",
       "  </thead>\n",
       "  <tbody>\n",
       "    <tr>\n",
       "      <th>0</th>\n",
       "      <td>0</td>\n",
       "      <td>2013-01-01</td>\n",
       "      <td>25</td>\n",
       "      <td>103665</td>\n",
       "      <td>7.0</td>\n",
       "      <td>NaN</td>\n",
       "      <td>Puyo</td>\n",
       "      <td>Pastaza</td>\n",
       "      <td>C</td>\n",
       "      <td>7</td>\n",
       "    </tr>\n",
       "    <tr>\n",
       "      <th>1</th>\n",
       "      <td>1</td>\n",
       "      <td>2013-01-01</td>\n",
       "      <td>25</td>\n",
       "      <td>105574</td>\n",
       "      <td>1.0</td>\n",
       "      <td>NaN</td>\n",
       "      <td>Puyo</td>\n",
       "      <td>Pastaza</td>\n",
       "      <td>C</td>\n",
       "      <td>7</td>\n",
       "    </tr>\n",
       "    <tr>\n",
       "      <th>2</th>\n",
       "      <td>2</td>\n",
       "      <td>2013-01-01</td>\n",
       "      <td>25</td>\n",
       "      <td>105575</td>\n",
       "      <td>2.0</td>\n",
       "      <td>NaN</td>\n",
       "      <td>Puyo</td>\n",
       "      <td>Pastaza</td>\n",
       "      <td>C</td>\n",
       "      <td>7</td>\n",
       "    </tr>\n",
       "    <tr>\n",
       "      <th>3</th>\n",
       "      <td>3</td>\n",
       "      <td>2013-01-01</td>\n",
       "      <td>25</td>\n",
       "      <td>108079</td>\n",
       "      <td>1.0</td>\n",
       "      <td>NaN</td>\n",
       "      <td>Puyo</td>\n",
       "      <td>Pastaza</td>\n",
       "      <td>C</td>\n",
       "      <td>7</td>\n",
       "    </tr>\n",
       "    <tr>\n",
       "      <th>4</th>\n",
       "      <td>4</td>\n",
       "      <td>2013-01-01</td>\n",
       "      <td>25</td>\n",
       "      <td>108701</td>\n",
       "      <td>1.0</td>\n",
       "      <td>NaN</td>\n",
       "      <td>Puyo</td>\n",
       "      <td>Pastaza</td>\n",
       "      <td>C</td>\n",
       "      <td>7</td>\n",
       "    </tr>\n",
       "  </tbody>\n",
       "</table>\n",
       "</div>"
      ],
      "text/plain": [
       "   id        date store_nbr item_nbr unit_sales onpromotion  city    state  \\\n",
       "0   0  2013-01-01        25   103665        7.0         NaN  Puyo  Pastaza   \n",
       "1   1  2013-01-01        25   105574        1.0         NaN  Puyo  Pastaza   \n",
       "2   2  2013-01-01        25   105575        2.0         NaN  Puyo  Pastaza   \n",
       "3   3  2013-01-01        25   108079        1.0         NaN  Puyo  Pastaza   \n",
       "4   4  2013-01-01        25   108701        1.0         NaN  Puyo  Pastaza   \n",
       "\n",
       "  type cluster  \n",
       "0    C       7  \n",
       "1    C       7  \n",
       "2    C       7  \n",
       "3    C       7  \n",
       "4    C       7  "
      ]
     },
     "execution_count": 26,
     "metadata": {},
     "output_type": "execute_result"
    }
   ],
   "source": [
    "df.head()"
   ]
  },
  {
   "cell_type": "code",
   "execution_count": 27,
   "metadata": {
    "ExecuteTime": {
     "end_time": "2018-09-26T11:21:26.870065Z",
     "start_time": "2018-09-26T11:21:26.815760Z"
    }
   },
   "outputs": [
    {
     "name": "stdout",
     "output_type": "stream",
     "text": [
      "<class 'pandas.core.frame.DataFrame'>\n",
      "Int64Index: 125497040 entries, 0 to 125497039\n",
      "Data columns (total 10 columns):\n",
      "id             uint32\n",
      "date           category\n",
      "store_nbr      category\n",
      "item_nbr       category\n",
      "unit_sales     category\n",
      "onpromotion    category\n",
      "city           category\n",
      "state          category\n",
      "type           category\n",
      "cluster        category\n",
      "dtypes: category(9), uint32(1)\n",
      "memory usage: 3.1 GB\n"
     ]
    }
   ],
   "source": [
    "df.info(memory_usage='deep')"
   ]
  },
  {
   "cell_type": "markdown",
   "metadata": {},
   "source": [
    "## Join DF and Holiday_Events"
   ]
  },
  {
   "cell_type": "code",
   "execution_count": 28,
   "metadata": {
    "ExecuteTime": {
     "end_time": "2018-09-26T11:21:26.898398Z",
     "start_time": "2018-09-26T11:21:26.872680Z"
    }
   },
   "outputs": [
    {
     "data": {
      "text/plain": [
       "Index(['date', 'type', 'locale', 'locale_name', 'description', 'transferred'], dtype='object')"
      ]
     },
     "execution_count": 28,
     "metadata": {},
     "output_type": "execute_result"
    }
   ],
   "source": [
    "holidays_events.columns"
   ]
  },
  {
   "cell_type": "code",
   "execution_count": 29,
   "metadata": {
    "ExecuteTime": {
     "end_time": "2018-09-26T11:22:52.471724Z",
     "start_time": "2018-09-26T11:21:26.901283Z"
    }
   },
   "outputs": [],
   "source": [
    "df = join_df(df, holidays_events, ['date', 'state'], ['date', 'locale_name'])"
   ]
  },
  {
   "cell_type": "code",
   "execution_count": 30,
   "metadata": {
    "ExecuteTime": {
     "end_time": "2018-09-26T11:22:52.523817Z",
     "start_time": "2018-09-26T11:22:52.474108Z"
    }
   },
   "outputs": [
    {
     "data": {
      "text/html": [
       "<div>\n",
       "<style scoped>\n",
       "    .dataframe tbody tr th:only-of-type {\n",
       "        vertical-align: middle;\n",
       "    }\n",
       "\n",
       "    .dataframe tbody tr th {\n",
       "        vertical-align: top;\n",
       "    }\n",
       "\n",
       "    .dataframe thead th {\n",
       "        text-align: right;\n",
       "    }\n",
       "</style>\n",
       "<table border=\"1\" class=\"dataframe\">\n",
       "  <thead>\n",
       "    <tr style=\"text-align: right;\">\n",
       "      <th></th>\n",
       "      <th>id</th>\n",
       "      <th>date</th>\n",
       "      <th>store_nbr</th>\n",
       "      <th>item_nbr</th>\n",
       "      <th>unit_sales</th>\n",
       "      <th>onpromotion</th>\n",
       "      <th>city</th>\n",
       "      <th>state</th>\n",
       "      <th>type</th>\n",
       "      <th>cluster</th>\n",
       "      <th>type_y</th>\n",
       "      <th>locale</th>\n",
       "      <th>locale_name</th>\n",
       "      <th>description</th>\n",
       "      <th>transferred</th>\n",
       "    </tr>\n",
       "  </thead>\n",
       "  <tbody>\n",
       "    <tr>\n",
       "      <th>0</th>\n",
       "      <td>0</td>\n",
       "      <td>2013-01-01</td>\n",
       "      <td>25</td>\n",
       "      <td>103665</td>\n",
       "      <td>7.0</td>\n",
       "      <td>NaN</td>\n",
       "      <td>Puyo</td>\n",
       "      <td>Pastaza</td>\n",
       "      <td>C</td>\n",
       "      <td>7</td>\n",
       "      <td>NaN</td>\n",
       "      <td>NaN</td>\n",
       "      <td>NaN</td>\n",
       "      <td>NaN</td>\n",
       "      <td>NaN</td>\n",
       "    </tr>\n",
       "    <tr>\n",
       "      <th>1</th>\n",
       "      <td>1</td>\n",
       "      <td>2013-01-01</td>\n",
       "      <td>25</td>\n",
       "      <td>105574</td>\n",
       "      <td>1.0</td>\n",
       "      <td>NaN</td>\n",
       "      <td>Puyo</td>\n",
       "      <td>Pastaza</td>\n",
       "      <td>C</td>\n",
       "      <td>7</td>\n",
       "      <td>NaN</td>\n",
       "      <td>NaN</td>\n",
       "      <td>NaN</td>\n",
       "      <td>NaN</td>\n",
       "      <td>NaN</td>\n",
       "    </tr>\n",
       "    <tr>\n",
       "      <th>2</th>\n",
       "      <td>2</td>\n",
       "      <td>2013-01-01</td>\n",
       "      <td>25</td>\n",
       "      <td>105575</td>\n",
       "      <td>2.0</td>\n",
       "      <td>NaN</td>\n",
       "      <td>Puyo</td>\n",
       "      <td>Pastaza</td>\n",
       "      <td>C</td>\n",
       "      <td>7</td>\n",
       "      <td>NaN</td>\n",
       "      <td>NaN</td>\n",
       "      <td>NaN</td>\n",
       "      <td>NaN</td>\n",
       "      <td>NaN</td>\n",
       "    </tr>\n",
       "    <tr>\n",
       "      <th>3</th>\n",
       "      <td>3</td>\n",
       "      <td>2013-01-01</td>\n",
       "      <td>25</td>\n",
       "      <td>108079</td>\n",
       "      <td>1.0</td>\n",
       "      <td>NaN</td>\n",
       "      <td>Puyo</td>\n",
       "      <td>Pastaza</td>\n",
       "      <td>C</td>\n",
       "      <td>7</td>\n",
       "      <td>NaN</td>\n",
       "      <td>NaN</td>\n",
       "      <td>NaN</td>\n",
       "      <td>NaN</td>\n",
       "      <td>NaN</td>\n",
       "    </tr>\n",
       "    <tr>\n",
       "      <th>4</th>\n",
       "      <td>4</td>\n",
       "      <td>2013-01-01</td>\n",
       "      <td>25</td>\n",
       "      <td>108701</td>\n",
       "      <td>1.0</td>\n",
       "      <td>NaN</td>\n",
       "      <td>Puyo</td>\n",
       "      <td>Pastaza</td>\n",
       "      <td>C</td>\n",
       "      <td>7</td>\n",
       "      <td>NaN</td>\n",
       "      <td>NaN</td>\n",
       "      <td>NaN</td>\n",
       "      <td>NaN</td>\n",
       "      <td>NaN</td>\n",
       "    </tr>\n",
       "  </tbody>\n",
       "</table>\n",
       "</div>"
      ],
      "text/plain": [
       "   id        date store_nbr item_nbr unit_sales onpromotion  city    state  \\\n",
       "0   0  2013-01-01        25   103665        7.0         NaN  Puyo  Pastaza   \n",
       "1   1  2013-01-01        25   105574        1.0         NaN  Puyo  Pastaza   \n",
       "2   2  2013-01-01        25   105575        2.0         NaN  Puyo  Pastaza   \n",
       "3   3  2013-01-01        25   108079        1.0         NaN  Puyo  Pastaza   \n",
       "4   4  2013-01-01        25   108701        1.0         NaN  Puyo  Pastaza   \n",
       "\n",
       "  type cluster type_y locale locale_name description transferred  \n",
       "0    C       7    NaN    NaN         NaN         NaN         NaN  \n",
       "1    C       7    NaN    NaN         NaN         NaN         NaN  \n",
       "2    C       7    NaN    NaN         NaN         NaN         NaN  \n",
       "3    C       7    NaN    NaN         NaN         NaN         NaN  \n",
       "4    C       7    NaN    NaN         NaN         NaN         NaN  "
      ]
     },
     "execution_count": 30,
     "metadata": {},
     "output_type": "execute_result"
    }
   ],
   "source": [
    "df.head()"
   ]
  },
  {
   "cell_type": "code",
   "execution_count": 31,
   "metadata": {
    "ExecuteTime": {
     "end_time": "2018-09-26T11:22:52.567238Z",
     "start_time": "2018-09-26T11:22:52.527393Z"
    }
   },
   "outputs": [],
   "source": [
    "# DataFrameSummary(df).summary()"
   ]
  },
  {
   "cell_type": "code",
   "execution_count": 32,
   "metadata": {
    "ExecuteTime": {
     "end_time": "2018-09-26T11:23:27.589768Z",
     "start_time": "2018-09-26T11:22:52.570429Z"
    }
   },
   "outputs": [
    {
     "name": "stdout",
     "output_type": "stream",
     "text": [
      "<class 'pandas.core.frame.DataFrame'>\n",
      "Int64Index: 125497040 entries, 0 to 125497039\n",
      "Data columns (total 15 columns):\n",
      "id             uint32\n",
      "date           object\n",
      "store_nbr      category\n",
      "item_nbr       category\n",
      "unit_sales     category\n",
      "onpromotion    category\n",
      "city           category\n",
      "state          object\n",
      "type           category\n",
      "cluster        category\n",
      "type_y         category\n",
      "locale         category\n",
      "locale_name    category\n",
      "description    category\n",
      "transferred    category\n",
      "dtypes: category(12), object(2), uint32(1)\n",
      "memory usage: 18.8 GB\n"
     ]
    }
   ],
   "source": [
    "df.info(memory_usage='deep')"
   ]
  },
  {
   "cell_type": "code",
   "execution_count": 33,
   "metadata": {
    "ExecuteTime": {
     "end_time": "2018-09-26T11:23:52.769963Z",
     "start_time": "2018-09-26T11:23:27.591779Z"
    }
   },
   "outputs": [
    {
     "data": {
      "text/html": [
       "<div>\n",
       "<style scoped>\n",
       "    .dataframe tbody tr th:only-of-type {\n",
       "        vertical-align: middle;\n",
       "    }\n",
       "\n",
       "    .dataframe tbody tr th {\n",
       "        vertical-align: top;\n",
       "    }\n",
       "\n",
       "    .dataframe thead th {\n",
       "        text-align: right;\n",
       "    }\n",
       "</style>\n",
       "<table border=\"1\" class=\"dataframe\">\n",
       "  <thead>\n",
       "    <tr style=\"text-align: right;\">\n",
       "      <th></th>\n",
       "      <th>columns</th>\n",
       "      <th>size</th>\n",
       "      <th>type</th>\n",
       "    </tr>\n",
       "  </thead>\n",
       "  <tbody>\n",
       "    <tr>\n",
       "      <th>0</th>\n",
       "      <td>id</td>\n",
       "      <td>478.733215</td>\n",
       "      <td>uint32</td>\n",
       "    </tr>\n",
       "    <tr>\n",
       "      <th>1</th>\n",
       "      <td>date</td>\n",
       "      <td>8018.781357</td>\n",
       "      <td>object</td>\n",
       "    </tr>\n",
       "    <tr>\n",
       "      <th>2</th>\n",
       "      <td>store_nbr</td>\n",
       "      <td>119.688844</td>\n",
       "      <td>category</td>\n",
       "    </tr>\n",
       "    <tr>\n",
       "      <th>3</th>\n",
       "      <td>item_nbr</td>\n",
       "      <td>239.767878</td>\n",
       "      <td>category</td>\n",
       "    </tr>\n",
       "    <tr>\n",
       "      <th>4</th>\n",
       "      <td>unit_sales</td>\n",
       "      <td>504.360354</td>\n",
       "      <td>category</td>\n",
       "    </tr>\n",
       "    <tr>\n",
       "      <th>5</th>\n",
       "      <td>onpromotion</td>\n",
       "      <td>119.683497</td>\n",
       "      <td>category</td>\n",
       "    </tr>\n",
       "    <tr>\n",
       "      <th>6</th>\n",
       "      <td>city</td>\n",
       "      <td>119.685260</td>\n",
       "      <td>category</td>\n",
       "    </tr>\n",
       "    <tr>\n",
       "      <th>7</th>\n",
       "      <td>state</td>\n",
       "      <td>7899.702167</td>\n",
       "      <td>object</td>\n",
       "    </tr>\n",
       "    <tr>\n",
       "      <th>8</th>\n",
       "      <td>type</td>\n",
       "      <td>119.683771</td>\n",
       "      <td>category</td>\n",
       "    </tr>\n",
       "    <tr>\n",
       "      <th>9</th>\n",
       "      <td>cluster</td>\n",
       "      <td>119.684931</td>\n",
       "      <td>category</td>\n",
       "    </tr>\n",
       "    <tr>\n",
       "      <th>10</th>\n",
       "      <td>type_y</td>\n",
       "      <td>119.683825</td>\n",
       "      <td>category</td>\n",
       "    </tr>\n",
       "    <tr>\n",
       "      <th>11</th>\n",
       "      <td>locale</td>\n",
       "      <td>119.683563</td>\n",
       "      <td>category</td>\n",
       "    </tr>\n",
       "    <tr>\n",
       "      <th>12</th>\n",
       "      <td>locale_name</td>\n",
       "      <td>119.685411</td>\n",
       "      <td>category</td>\n",
       "    </tr>\n",
       "    <tr>\n",
       "      <th>13</th>\n",
       "      <td>description</td>\n",
       "      <td>119.695984</td>\n",
       "      <td>category</td>\n",
       "    </tr>\n",
       "    <tr>\n",
       "      <th>14</th>\n",
       "      <td>transferred</td>\n",
       "      <td>119.683497</td>\n",
       "      <td>category</td>\n",
       "    </tr>\n",
       "  </tbody>\n",
       "</table>\n",
       "</div>"
      ],
      "text/plain": [
       "        columns         size      type\n",
       "0            id   478.733215    uint32\n",
       "1          date  8018.781357    object\n",
       "2     store_nbr   119.688844  category\n",
       "3      item_nbr   239.767878  category\n",
       "4    unit_sales   504.360354  category\n",
       "5   onpromotion   119.683497  category\n",
       "6          city   119.685260  category\n",
       "7         state  7899.702167    object\n",
       "8          type   119.683771  category\n",
       "9       cluster   119.684931  category\n",
       "10       type_y   119.683825  category\n",
       "11       locale   119.683563  category\n",
       "12  locale_name   119.685411  category\n",
       "13  description   119.695984  category\n",
       "14  transferred   119.683497  category"
      ]
     },
     "execution_count": 33,
     "metadata": {},
     "output_type": "execute_result"
    }
   ],
   "source": [
    "mem_usage(df)"
   ]
  },
  {
   "cell_type": "code",
   "execution_count": 34,
   "metadata": {
    "ExecuteTime": {
     "end_time": "2018-09-26T11:24:10.613178Z",
     "start_time": "2018-09-26T11:23:52.771875Z"
    }
   },
   "outputs": [],
   "source": [
    "df['date'] = df.date.astype('category')\n",
    "df['state'] = df.state.astype('category')"
   ]
  },
  {
   "cell_type": "code",
   "execution_count": 35,
   "metadata": {
    "ExecuteTime": {
     "end_time": "2018-09-26T11:24:10.680819Z",
     "start_time": "2018-09-26T11:24:10.615725Z"
    }
   },
   "outputs": [
    {
     "data": {
      "text/html": [
       "<div>\n",
       "<style scoped>\n",
       "    .dataframe tbody tr th:only-of-type {\n",
       "        vertical-align: middle;\n",
       "    }\n",
       "\n",
       "    .dataframe tbody tr th {\n",
       "        vertical-align: top;\n",
       "    }\n",
       "\n",
       "    .dataframe thead th {\n",
       "        text-align: right;\n",
       "    }\n",
       "</style>\n",
       "<table border=\"1\" class=\"dataframe\">\n",
       "  <thead>\n",
       "    <tr style=\"text-align: right;\">\n",
       "      <th></th>\n",
       "      <th>columns</th>\n",
       "      <th>size</th>\n",
       "      <th>type</th>\n",
       "    </tr>\n",
       "  </thead>\n",
       "  <tbody>\n",
       "    <tr>\n",
       "      <th>0</th>\n",
       "      <td>id</td>\n",
       "      <td>478.733215</td>\n",
       "      <td>uint32</td>\n",
       "    </tr>\n",
       "    <tr>\n",
       "      <th>1</th>\n",
       "      <td>date</td>\n",
       "      <td>239.552334</td>\n",
       "      <td>category</td>\n",
       "    </tr>\n",
       "    <tr>\n",
       "      <th>2</th>\n",
       "      <td>store_nbr</td>\n",
       "      <td>119.688844</td>\n",
       "      <td>category</td>\n",
       "    </tr>\n",
       "    <tr>\n",
       "      <th>3</th>\n",
       "      <td>item_nbr</td>\n",
       "      <td>239.767878</td>\n",
       "      <td>category</td>\n",
       "    </tr>\n",
       "    <tr>\n",
       "      <th>4</th>\n",
       "      <td>unit_sales</td>\n",
       "      <td>504.360354</td>\n",
       "      <td>category</td>\n",
       "    </tr>\n",
       "    <tr>\n",
       "      <th>5</th>\n",
       "      <td>onpromotion</td>\n",
       "      <td>119.683497</td>\n",
       "      <td>category</td>\n",
       "    </tr>\n",
       "    <tr>\n",
       "      <th>6</th>\n",
       "      <td>city</td>\n",
       "      <td>119.685260</td>\n",
       "      <td>category</td>\n",
       "    </tr>\n",
       "    <tr>\n",
       "      <th>7</th>\n",
       "      <td>state</td>\n",
       "      <td>119.684922</td>\n",
       "      <td>category</td>\n",
       "    </tr>\n",
       "    <tr>\n",
       "      <th>8</th>\n",
       "      <td>type</td>\n",
       "      <td>119.683771</td>\n",
       "      <td>category</td>\n",
       "    </tr>\n",
       "    <tr>\n",
       "      <th>9</th>\n",
       "      <td>cluster</td>\n",
       "      <td>119.684931</td>\n",
       "      <td>category</td>\n",
       "    </tr>\n",
       "    <tr>\n",
       "      <th>10</th>\n",
       "      <td>type_y</td>\n",
       "      <td>119.683825</td>\n",
       "      <td>category</td>\n",
       "    </tr>\n",
       "    <tr>\n",
       "      <th>11</th>\n",
       "      <td>locale</td>\n",
       "      <td>119.683563</td>\n",
       "      <td>category</td>\n",
       "    </tr>\n",
       "    <tr>\n",
       "      <th>12</th>\n",
       "      <td>locale_name</td>\n",
       "      <td>119.685411</td>\n",
       "      <td>category</td>\n",
       "    </tr>\n",
       "    <tr>\n",
       "      <th>13</th>\n",
       "      <td>description</td>\n",
       "      <td>119.695984</td>\n",
       "      <td>category</td>\n",
       "    </tr>\n",
       "    <tr>\n",
       "      <th>14</th>\n",
       "      <td>transferred</td>\n",
       "      <td>119.683497</td>\n",
       "      <td>category</td>\n",
       "    </tr>\n",
       "  </tbody>\n",
       "</table>\n",
       "</div>"
      ],
      "text/plain": [
       "        columns        size      type\n",
       "0            id  478.733215    uint32\n",
       "1          date  239.552334  category\n",
       "2     store_nbr  119.688844  category\n",
       "3      item_nbr  239.767878  category\n",
       "4    unit_sales  504.360354  category\n",
       "5   onpromotion  119.683497  category\n",
       "6          city  119.685260  category\n",
       "7         state  119.684922  category\n",
       "8          type  119.683771  category\n",
       "9       cluster  119.684931  category\n",
       "10       type_y  119.683825  category\n",
       "11       locale  119.683563  category\n",
       "12  locale_name  119.685411  category\n",
       "13  description  119.695984  category\n",
       "14  transferred  119.683497  category"
      ]
     },
     "execution_count": 35,
     "metadata": {},
     "output_type": "execute_result"
    }
   ],
   "source": [
    "mem_usage(df)"
   ]
  },
  {
   "cell_type": "code",
   "execution_count": 36,
   "metadata": {
    "ExecuteTime": {
     "end_time": "2018-09-26T11:24:10.735542Z",
     "start_time": "2018-09-26T11:24:10.683202Z"
    }
   },
   "outputs": [
    {
     "name": "stdout",
     "output_type": "stream",
     "text": [
      "<class 'pandas.core.frame.DataFrame'>\n",
      "Int64Index: 125497040 entries, 0 to 125497039\n",
      "Data columns (total 15 columns):\n",
      "id             uint32\n",
      "date           category\n",
      "store_nbr      category\n",
      "item_nbr       category\n",
      "unit_sales     category\n",
      "onpromotion    category\n",
      "city           category\n",
      "state          category\n",
      "type           category\n",
      "cluster        category\n",
      "type_y         category\n",
      "locale         category\n",
      "locale_name    category\n",
      "description    category\n",
      "transferred    category\n",
      "dtypes: category(14), uint32(1)\n",
      "memory usage: 3.6 GB\n"
     ]
    }
   ],
   "source": [
    "df.info(memory_usage='deep')"
   ]
  },
  {
   "cell_type": "markdown",
   "metadata": {},
   "source": [
    "## Join DF and Items"
   ]
  },
  {
   "cell_type": "code",
   "execution_count": 37,
   "metadata": {
    "ExecuteTime": {
     "end_time": "2018-09-26T11:24:10.767952Z",
     "start_time": "2018-09-26T11:24:10.738054Z"
    }
   },
   "outputs": [
    {
     "data": {
      "text/plain": [
       "Index(['item_nbr', 'family', 'class', 'perishable'], dtype='object')"
      ]
     },
     "metadata": {},
     "output_type": "display_data"
    },
    {
     "data": {
      "text/plain": [
       "Index(['id', 'date', 'store_nbr', 'item_nbr', 'unit_sales', 'onpromotion',\n",
       "       'city', 'state', 'type', 'cluster', 'type_y', 'locale', 'locale_name',\n",
       "       'description', 'transferred'],\n",
       "      dtype='object')"
      ]
     },
     "metadata": {},
     "output_type": "display_data"
    }
   ],
   "source": [
    "display(items.columns)\n",
    "display(df.columns)"
   ]
  },
  {
   "cell_type": "code",
   "execution_count": 38,
   "metadata": {
    "ExecuteTime": {
     "end_time": "2018-09-26T11:26:09.463826Z",
     "start_time": "2018-09-26T11:24:10.770733Z"
    }
   },
   "outputs": [],
   "source": [
    "df = join_df(df, items, 'item_nbr', 'item_nbr')"
   ]
  },
  {
   "cell_type": "code",
   "execution_count": 39,
   "metadata": {
    "ExecuteTime": {
     "end_time": "2018-09-26T11:26:09.547910Z",
     "start_time": "2018-09-26T11:26:09.466335Z"
    }
   },
   "outputs": [
    {
     "data": {
      "text/html": [
       "<div>\n",
       "<style scoped>\n",
       "    .dataframe tbody tr th:only-of-type {\n",
       "        vertical-align: middle;\n",
       "    }\n",
       "\n",
       "    .dataframe tbody tr th {\n",
       "        vertical-align: top;\n",
       "    }\n",
       "\n",
       "    .dataframe thead th {\n",
       "        text-align: right;\n",
       "    }\n",
       "</style>\n",
       "<table border=\"1\" class=\"dataframe\">\n",
       "  <thead>\n",
       "    <tr style=\"text-align: right;\">\n",
       "      <th></th>\n",
       "      <th>id</th>\n",
       "      <th>date</th>\n",
       "      <th>store_nbr</th>\n",
       "      <th>item_nbr</th>\n",
       "      <th>unit_sales</th>\n",
       "      <th>onpromotion</th>\n",
       "      <th>city</th>\n",
       "      <th>state</th>\n",
       "      <th>type</th>\n",
       "      <th>cluster</th>\n",
       "      <th>type_y</th>\n",
       "      <th>locale</th>\n",
       "      <th>locale_name</th>\n",
       "      <th>description</th>\n",
       "      <th>transferred</th>\n",
       "      <th>family</th>\n",
       "      <th>class</th>\n",
       "      <th>perishable</th>\n",
       "    </tr>\n",
       "  </thead>\n",
       "  <tbody>\n",
       "    <tr>\n",
       "      <th>0</th>\n",
       "      <td>0</td>\n",
       "      <td>2013-01-01</td>\n",
       "      <td>25</td>\n",
       "      <td>103665</td>\n",
       "      <td>7.0</td>\n",
       "      <td>NaN</td>\n",
       "      <td>Puyo</td>\n",
       "      <td>Pastaza</td>\n",
       "      <td>C</td>\n",
       "      <td>7</td>\n",
       "      <td>NaN</td>\n",
       "      <td>NaN</td>\n",
       "      <td>NaN</td>\n",
       "      <td>NaN</td>\n",
       "      <td>NaN</td>\n",
       "      <td>BREAD/BAKERY</td>\n",
       "      <td>2712</td>\n",
       "      <td>1</td>\n",
       "    </tr>\n",
       "    <tr>\n",
       "      <th>1</th>\n",
       "      <td>1</td>\n",
       "      <td>2013-01-01</td>\n",
       "      <td>25</td>\n",
       "      <td>105574</td>\n",
       "      <td>1.0</td>\n",
       "      <td>NaN</td>\n",
       "      <td>Puyo</td>\n",
       "      <td>Pastaza</td>\n",
       "      <td>C</td>\n",
       "      <td>7</td>\n",
       "      <td>NaN</td>\n",
       "      <td>NaN</td>\n",
       "      <td>NaN</td>\n",
       "      <td>NaN</td>\n",
       "      <td>NaN</td>\n",
       "      <td>GROCERY I</td>\n",
       "      <td>1045</td>\n",
       "      <td>0</td>\n",
       "    </tr>\n",
       "    <tr>\n",
       "      <th>2</th>\n",
       "      <td>2</td>\n",
       "      <td>2013-01-01</td>\n",
       "      <td>25</td>\n",
       "      <td>105575</td>\n",
       "      <td>2.0</td>\n",
       "      <td>NaN</td>\n",
       "      <td>Puyo</td>\n",
       "      <td>Pastaza</td>\n",
       "      <td>C</td>\n",
       "      <td>7</td>\n",
       "      <td>NaN</td>\n",
       "      <td>NaN</td>\n",
       "      <td>NaN</td>\n",
       "      <td>NaN</td>\n",
       "      <td>NaN</td>\n",
       "      <td>GROCERY I</td>\n",
       "      <td>1045</td>\n",
       "      <td>0</td>\n",
       "    </tr>\n",
       "    <tr>\n",
       "      <th>3</th>\n",
       "      <td>3</td>\n",
       "      <td>2013-01-01</td>\n",
       "      <td>25</td>\n",
       "      <td>108079</td>\n",
       "      <td>1.0</td>\n",
       "      <td>NaN</td>\n",
       "      <td>Puyo</td>\n",
       "      <td>Pastaza</td>\n",
       "      <td>C</td>\n",
       "      <td>7</td>\n",
       "      <td>NaN</td>\n",
       "      <td>NaN</td>\n",
       "      <td>NaN</td>\n",
       "      <td>NaN</td>\n",
       "      <td>NaN</td>\n",
       "      <td>GROCERY I</td>\n",
       "      <td>1030</td>\n",
       "      <td>0</td>\n",
       "    </tr>\n",
       "    <tr>\n",
       "      <th>4</th>\n",
       "      <td>4</td>\n",
       "      <td>2013-01-01</td>\n",
       "      <td>25</td>\n",
       "      <td>108701</td>\n",
       "      <td>1.0</td>\n",
       "      <td>NaN</td>\n",
       "      <td>Puyo</td>\n",
       "      <td>Pastaza</td>\n",
       "      <td>C</td>\n",
       "      <td>7</td>\n",
       "      <td>NaN</td>\n",
       "      <td>NaN</td>\n",
       "      <td>NaN</td>\n",
       "      <td>NaN</td>\n",
       "      <td>NaN</td>\n",
       "      <td>DELI</td>\n",
       "      <td>2644</td>\n",
       "      <td>1</td>\n",
       "    </tr>\n",
       "  </tbody>\n",
       "</table>\n",
       "</div>"
      ],
      "text/plain": [
       "   id        date store_nbr item_nbr unit_sales onpromotion  city    state  \\\n",
       "0   0  2013-01-01        25   103665        7.0         NaN  Puyo  Pastaza   \n",
       "1   1  2013-01-01        25   105574        1.0         NaN  Puyo  Pastaza   \n",
       "2   2  2013-01-01        25   105575        2.0         NaN  Puyo  Pastaza   \n",
       "3   3  2013-01-01        25   108079        1.0         NaN  Puyo  Pastaza   \n",
       "4   4  2013-01-01        25   108701        1.0         NaN  Puyo  Pastaza   \n",
       "\n",
       "  type cluster type_y locale locale_name description transferred  \\\n",
       "0    C       7    NaN    NaN         NaN         NaN         NaN   \n",
       "1    C       7    NaN    NaN         NaN         NaN         NaN   \n",
       "2    C       7    NaN    NaN         NaN         NaN         NaN   \n",
       "3    C       7    NaN    NaN         NaN         NaN         NaN   \n",
       "4    C       7    NaN    NaN         NaN         NaN         NaN   \n",
       "\n",
       "         family class perishable  \n",
       "0  BREAD/BAKERY  2712          1  \n",
       "1     GROCERY I  1045          0  \n",
       "2     GROCERY I  1045          0  \n",
       "3     GROCERY I  1030          0  \n",
       "4          DELI  2644          1  "
      ]
     },
     "execution_count": 39,
     "metadata": {},
     "output_type": "execute_result"
    }
   ],
   "source": [
    "df.head()"
   ]
  },
  {
   "cell_type": "code",
   "execution_count": 40,
   "metadata": {
    "ExecuteTime": {
     "end_time": "2018-09-26T11:26:24.298775Z",
     "start_time": "2018-09-26T11:26:09.550929Z"
    }
   },
   "outputs": [
    {
     "name": "stdout",
     "output_type": "stream",
     "text": [
      "<class 'pandas.core.frame.DataFrame'>\n",
      "Int64Index: 125497040 entries, 0 to 125497039\n",
      "Data columns (total 18 columns):\n",
      "id             uint32\n",
      "date           category\n",
      "store_nbr      category\n",
      "item_nbr       object\n",
      "unit_sales     category\n",
      "onpromotion    category\n",
      "city           category\n",
      "state          category\n",
      "type           category\n",
      "cluster        category\n",
      "type_y         category\n",
      "locale         category\n",
      "locale_name    category\n",
      "description    category\n",
      "transferred    category\n",
      "family         category\n",
      "class          category\n",
      "perishable     category\n",
      "dtypes: category(16), object(1), uint32(1)\n",
      "memory usage: 11.3 GB\n"
     ]
    }
   ],
   "source": [
    "df.info(memory_usage='deep')"
   ]
  },
  {
   "cell_type": "code",
   "execution_count": 41,
   "metadata": {
    "ExecuteTime": {
     "end_time": "2018-09-26T11:26:34.929021Z",
     "start_time": "2018-09-26T11:26:24.301693Z"
    }
   },
   "outputs": [],
   "source": [
    "df['item_nbr'] = df.item_nbr.astype('category')"
   ]
  },
  {
   "cell_type": "code",
   "execution_count": 42,
   "metadata": {
    "ExecuteTime": {
     "end_time": "2018-09-26T11:26:35.017464Z",
     "start_time": "2018-09-26T11:26:34.931744Z"
    }
   },
   "outputs": [
    {
     "name": "stdout",
     "output_type": "stream",
     "text": [
      "<class 'pandas.core.frame.DataFrame'>\n",
      "Int64Index: 125497040 entries, 0 to 125497039\n",
      "Data columns (total 18 columns):\n",
      "id             uint32\n",
      "date           category\n",
      "store_nbr      category\n",
      "item_nbr       category\n",
      "unit_sales     category\n",
      "onpromotion    category\n",
      "city           category\n",
      "state          category\n",
      "type           category\n",
      "cluster        category\n",
      "type_y         category\n",
      "locale         category\n",
      "locale_name    category\n",
      "description    category\n",
      "transferred    category\n",
      "family         category\n",
      "class          category\n",
      "perishable     category\n",
      "dtypes: category(17), uint32(1)\n",
      "memory usage: 4.1 GB\n"
     ]
    }
   ],
   "source": [
    "df.info(memory_usage='deep')"
   ]
  },
  {
   "cell_type": "markdown",
   "metadata": {},
   "source": [
    "## Join DF and Oil"
   ]
  },
  {
   "cell_type": "code",
   "execution_count": 43,
   "metadata": {
    "ExecuteTime": {
     "end_time": "2018-09-26T11:26:35.057362Z",
     "start_time": "2018-09-26T11:26:35.020381Z"
    }
   },
   "outputs": [
    {
     "data": {
      "text/plain": [
       "Index(['date', 'dcoilwtico'], dtype='object')"
      ]
     },
     "metadata": {},
     "output_type": "display_data"
    }
   ],
   "source": [
    "display(oil.columns)"
   ]
  },
  {
   "cell_type": "code",
   "execution_count": 44,
   "metadata": {
    "ExecuteTime": {
     "end_time": "2018-09-26T11:28:14.935405Z",
     "start_time": "2018-09-26T11:26:35.060188Z"
    }
   },
   "outputs": [],
   "source": [
    "df = join_df(df, oil, 'date', 'date')"
   ]
  },
  {
   "cell_type": "code",
   "execution_count": 45,
   "metadata": {
    "ExecuteTime": {
     "end_time": "2018-09-26T11:28:14.995395Z",
     "start_time": "2018-09-26T11:28:14.937937Z"
    }
   },
   "outputs": [
    {
     "data": {
      "text/html": [
       "<div>\n",
       "<style scoped>\n",
       "    .dataframe tbody tr th:only-of-type {\n",
       "        vertical-align: middle;\n",
       "    }\n",
       "\n",
       "    .dataframe tbody tr th {\n",
       "        vertical-align: top;\n",
       "    }\n",
       "\n",
       "    .dataframe thead th {\n",
       "        text-align: right;\n",
       "    }\n",
       "</style>\n",
       "<table border=\"1\" class=\"dataframe\">\n",
       "  <thead>\n",
       "    <tr style=\"text-align: right;\">\n",
       "      <th></th>\n",
       "      <th>id</th>\n",
       "      <th>date</th>\n",
       "      <th>store_nbr</th>\n",
       "      <th>item_nbr</th>\n",
       "      <th>unit_sales</th>\n",
       "      <th>onpromotion</th>\n",
       "      <th>city</th>\n",
       "      <th>state</th>\n",
       "      <th>type</th>\n",
       "      <th>cluster</th>\n",
       "      <th>type_y</th>\n",
       "      <th>locale</th>\n",
       "      <th>locale_name</th>\n",
       "      <th>description</th>\n",
       "      <th>transferred</th>\n",
       "      <th>family</th>\n",
       "      <th>class</th>\n",
       "      <th>perishable</th>\n",
       "      <th>dcoilwtico</th>\n",
       "    </tr>\n",
       "  </thead>\n",
       "  <tbody>\n",
       "    <tr>\n",
       "      <th>0</th>\n",
       "      <td>0</td>\n",
       "      <td>2013-01-01</td>\n",
       "      <td>25</td>\n",
       "      <td>103665</td>\n",
       "      <td>7.0</td>\n",
       "      <td>NaN</td>\n",
       "      <td>Puyo</td>\n",
       "      <td>Pastaza</td>\n",
       "      <td>C</td>\n",
       "      <td>7</td>\n",
       "      <td>NaN</td>\n",
       "      <td>NaN</td>\n",
       "      <td>NaN</td>\n",
       "      <td>NaN</td>\n",
       "      <td>NaN</td>\n",
       "      <td>BREAD/BAKERY</td>\n",
       "      <td>2712</td>\n",
       "      <td>1</td>\n",
       "      <td>NaN</td>\n",
       "    </tr>\n",
       "    <tr>\n",
       "      <th>1</th>\n",
       "      <td>1</td>\n",
       "      <td>2013-01-01</td>\n",
       "      <td>25</td>\n",
       "      <td>105574</td>\n",
       "      <td>1.0</td>\n",
       "      <td>NaN</td>\n",
       "      <td>Puyo</td>\n",
       "      <td>Pastaza</td>\n",
       "      <td>C</td>\n",
       "      <td>7</td>\n",
       "      <td>NaN</td>\n",
       "      <td>NaN</td>\n",
       "      <td>NaN</td>\n",
       "      <td>NaN</td>\n",
       "      <td>NaN</td>\n",
       "      <td>GROCERY I</td>\n",
       "      <td>1045</td>\n",
       "      <td>0</td>\n",
       "      <td>NaN</td>\n",
       "    </tr>\n",
       "    <tr>\n",
       "      <th>2</th>\n",
       "      <td>2</td>\n",
       "      <td>2013-01-01</td>\n",
       "      <td>25</td>\n",
       "      <td>105575</td>\n",
       "      <td>2.0</td>\n",
       "      <td>NaN</td>\n",
       "      <td>Puyo</td>\n",
       "      <td>Pastaza</td>\n",
       "      <td>C</td>\n",
       "      <td>7</td>\n",
       "      <td>NaN</td>\n",
       "      <td>NaN</td>\n",
       "      <td>NaN</td>\n",
       "      <td>NaN</td>\n",
       "      <td>NaN</td>\n",
       "      <td>GROCERY I</td>\n",
       "      <td>1045</td>\n",
       "      <td>0</td>\n",
       "      <td>NaN</td>\n",
       "    </tr>\n",
       "    <tr>\n",
       "      <th>3</th>\n",
       "      <td>3</td>\n",
       "      <td>2013-01-01</td>\n",
       "      <td>25</td>\n",
       "      <td>108079</td>\n",
       "      <td>1.0</td>\n",
       "      <td>NaN</td>\n",
       "      <td>Puyo</td>\n",
       "      <td>Pastaza</td>\n",
       "      <td>C</td>\n",
       "      <td>7</td>\n",
       "      <td>NaN</td>\n",
       "      <td>NaN</td>\n",
       "      <td>NaN</td>\n",
       "      <td>NaN</td>\n",
       "      <td>NaN</td>\n",
       "      <td>GROCERY I</td>\n",
       "      <td>1030</td>\n",
       "      <td>0</td>\n",
       "      <td>NaN</td>\n",
       "    </tr>\n",
       "    <tr>\n",
       "      <th>4</th>\n",
       "      <td>4</td>\n",
       "      <td>2013-01-01</td>\n",
       "      <td>25</td>\n",
       "      <td>108701</td>\n",
       "      <td>1.0</td>\n",
       "      <td>NaN</td>\n",
       "      <td>Puyo</td>\n",
       "      <td>Pastaza</td>\n",
       "      <td>C</td>\n",
       "      <td>7</td>\n",
       "      <td>NaN</td>\n",
       "      <td>NaN</td>\n",
       "      <td>NaN</td>\n",
       "      <td>NaN</td>\n",
       "      <td>NaN</td>\n",
       "      <td>DELI</td>\n",
       "      <td>2644</td>\n",
       "      <td>1</td>\n",
       "      <td>NaN</td>\n",
       "    </tr>\n",
       "  </tbody>\n",
       "</table>\n",
       "</div>"
      ],
      "text/plain": [
       "   id        date store_nbr item_nbr unit_sales onpromotion  city    state  \\\n",
       "0   0  2013-01-01        25   103665        7.0         NaN  Puyo  Pastaza   \n",
       "1   1  2013-01-01        25   105574        1.0         NaN  Puyo  Pastaza   \n",
       "2   2  2013-01-01        25   105575        2.0         NaN  Puyo  Pastaza   \n",
       "3   3  2013-01-01        25   108079        1.0         NaN  Puyo  Pastaza   \n",
       "4   4  2013-01-01        25   108701        1.0         NaN  Puyo  Pastaza   \n",
       "\n",
       "  type cluster type_y locale locale_name description transferred  \\\n",
       "0    C       7    NaN    NaN         NaN         NaN         NaN   \n",
       "1    C       7    NaN    NaN         NaN         NaN         NaN   \n",
       "2    C       7    NaN    NaN         NaN         NaN         NaN   \n",
       "3    C       7    NaN    NaN         NaN         NaN         NaN   \n",
       "4    C       7    NaN    NaN         NaN         NaN         NaN   \n",
       "\n",
       "         family class perishable  dcoilwtico  \n",
       "0  BREAD/BAKERY  2712          1         NaN  \n",
       "1     GROCERY I  1045          0         NaN  \n",
       "2     GROCERY I  1045          0         NaN  \n",
       "3     GROCERY I  1030          0         NaN  \n",
       "4          DELI  2644          1         NaN  "
      ]
     },
     "execution_count": 45,
     "metadata": {},
     "output_type": "execute_result"
    }
   ],
   "source": [
    "df.head()"
   ]
  },
  {
   "cell_type": "code",
   "execution_count": 46,
   "metadata": {
    "ExecuteTime": {
     "end_time": "2018-09-26T11:28:27.555136Z",
     "start_time": "2018-09-26T11:28:14.998318Z"
    }
   },
   "outputs": [
    {
     "name": "stdout",
     "output_type": "stream",
     "text": [
      "<class 'pandas.core.frame.DataFrame'>\n",
      "Int64Index: 125497040 entries, 0 to 125497039\n",
      "Data columns (total 19 columns):\n",
      "id             uint32\n",
      "date           object\n",
      "store_nbr      category\n",
      "item_nbr       category\n",
      "unit_sales     category\n",
      "onpromotion    category\n",
      "city           category\n",
      "state          category\n",
      "type           category\n",
      "cluster        category\n",
      "type_y         category\n",
      "locale         category\n",
      "locale_name    category\n",
      "description    category\n",
      "transferred    category\n",
      "family         category\n",
      "class          category\n",
      "perishable     category\n",
      "dcoilwtico     float32\n",
      "dtypes: category(16), float32(1), object(1), uint32(1)\n",
      "memory usage: 12.2 GB\n"
     ]
    }
   ],
   "source": [
    "df.info(memory_usage='deep')"
   ]
  },
  {
   "cell_type": "code",
   "execution_count": 47,
   "metadata": {
    "ExecuteTime": {
     "end_time": "2018-09-26T11:28:35.286603Z",
     "start_time": "2018-09-26T11:28:27.557808Z"
    }
   },
   "outputs": [],
   "source": [
    "df['date'] = df.date.astype('category')"
   ]
  },
  {
   "cell_type": "code",
   "execution_count": 48,
   "metadata": {
    "ExecuteTime": {
     "end_time": "2018-09-26T11:28:35.343241Z",
     "start_time": "2018-09-26T11:28:35.288750Z"
    }
   },
   "outputs": [
    {
     "name": "stdout",
     "output_type": "stream",
     "text": [
      "<class 'pandas.core.frame.DataFrame'>\n",
      "Int64Index: 125497040 entries, 0 to 125497039\n",
      "Data columns (total 19 columns):\n",
      "id             uint32\n",
      "date           category\n",
      "store_nbr      category\n",
      "item_nbr       category\n",
      "unit_sales     category\n",
      "onpromotion    category\n",
      "city           category\n",
      "state          category\n",
      "type           category\n",
      "cluster        category\n",
      "type_y         category\n",
      "locale         category\n",
      "locale_name    category\n",
      "description    category\n",
      "transferred    category\n",
      "family         category\n",
      "class          category\n",
      "perishable     category\n",
      "dcoilwtico     float32\n",
      "dtypes: category(17), float32(1), uint32(1)\n",
      "memory usage: 4.6 GB\n"
     ]
    }
   ],
   "source": [
    "df.info(memory_usage='deep')"
   ]
  },
  {
   "cell_type": "markdown",
   "metadata": {},
   "source": [
    "## Join DF and Transactions"
   ]
  },
  {
   "cell_type": "code",
   "execution_count": 49,
   "metadata": {
    "ExecuteTime": {
     "end_time": "2018-09-26T11:28:35.375696Z",
     "start_time": "2018-09-26T11:28:35.346536Z"
    }
   },
   "outputs": [
    {
     "data": {
      "text/plain": [
       "Index(['date', 'store_nbr', 'transactions'], dtype='object')"
      ]
     },
     "metadata": {},
     "output_type": "display_data"
    },
    {
     "data": {
      "text/plain": [
       "Index(['id', 'date', 'store_nbr', 'item_nbr', 'unit_sales', 'onpromotion',\n",
       "       'city', 'state', 'type', 'cluster', 'type_y', 'locale', 'locale_name',\n",
       "       'description', 'transferred', 'family', 'class', 'perishable',\n",
       "       'dcoilwtico'],\n",
       "      dtype='object')"
      ]
     },
     "metadata": {},
     "output_type": "display_data"
    }
   ],
   "source": [
    "display(transactions.columns)\n",
    "display(df.columns)"
   ]
  },
  {
   "cell_type": "code",
   "execution_count": 50,
   "metadata": {
    "ExecuteTime": {
     "end_time": "2018-09-26T11:30:25.039555Z",
     "start_time": "2018-09-26T11:28:35.378608Z"
    }
   },
   "outputs": [],
   "source": [
    "df = join_df(df, transactions, ['date', 'store_nbr'], ['date', 'store_nbr'])"
   ]
  },
  {
   "cell_type": "code",
   "execution_count": 51,
   "metadata": {
    "ExecuteTime": {
     "end_time": "2018-09-26T11:30:37.530223Z",
     "start_time": "2018-09-26T11:30:25.058699Z"
    }
   },
   "outputs": [
    {
     "name": "stdout",
     "output_type": "stream",
     "text": [
      "<class 'pandas.core.frame.DataFrame'>\n",
      "Int64Index: 125497040 entries, 0 to 125497039\n",
      "Data columns (total 20 columns):\n",
      "id              uint32\n",
      "date            object\n",
      "store_nbr       category\n",
      "item_nbr        category\n",
      "unit_sales      category\n",
      "onpromotion     category\n",
      "city            category\n",
      "state           category\n",
      "type            category\n",
      "cluster         category\n",
      "type_y          category\n",
      "locale          category\n",
      "locale_name     category\n",
      "description     category\n",
      "transferred     category\n",
      "family          category\n",
      "class           category\n",
      "perishable      category\n",
      "dcoilwtico      float32\n",
      "transactions    category\n",
      "dtypes: category(17), float32(1), object(1), uint32(1)\n",
      "memory usage: 12.4 GB\n"
     ]
    }
   ],
   "source": [
    "df.info(memory_usage='deep')"
   ]
  },
  {
   "cell_type": "code",
   "execution_count": 52,
   "metadata": {
    "ExecuteTime": {
     "end_time": "2018-09-26T11:30:46.078298Z",
     "start_time": "2018-09-26T11:30:37.533983Z"
    }
   },
   "outputs": [],
   "source": [
    "df['date'] = df.date.astype('category')"
   ]
  },
  {
   "cell_type": "code",
   "execution_count": 53,
   "metadata": {
    "ExecuteTime": {
     "end_time": "2018-09-26T11:30:46.139846Z",
     "start_time": "2018-09-26T11:30:46.081115Z"
    }
   },
   "outputs": [
    {
     "name": "stdout",
     "output_type": "stream",
     "text": [
      "<class 'pandas.core.frame.DataFrame'>\n",
      "Int64Index: 125497040 entries, 0 to 125497039\n",
      "Data columns (total 20 columns):\n",
      "id              uint32\n",
      "date            category\n",
      "store_nbr       category\n",
      "item_nbr        category\n",
      "unit_sales      category\n",
      "onpromotion     category\n",
      "city            category\n",
      "state           category\n",
      "type            category\n",
      "cluster         category\n",
      "type_y          category\n",
      "locale          category\n",
      "locale_name     category\n",
      "description     category\n",
      "transferred     category\n",
      "family          category\n",
      "class           category\n",
      "perishable      category\n",
      "dcoilwtico      float32\n",
      "transactions    category\n",
      "dtypes: category(18), float32(1), uint32(1)\n",
      "memory usage: 4.8 GB\n"
     ]
    }
   ],
   "source": [
    "df.info(memory_usage='deep')"
   ]
  },
  {
   "cell_type": "markdown",
   "metadata": {},
   "source": [
    "## View DF"
   ]
  },
  {
   "cell_type": "code",
   "execution_count": 54,
   "metadata": {
    "ExecuteTime": {
     "end_time": "2018-09-26T11:30:46.208363Z",
     "start_time": "2018-09-26T11:30:46.142816Z"
    }
   },
   "outputs": [
    {
     "data": {
      "text/html": [
       "<div>\n",
       "<style scoped>\n",
       "    .dataframe tbody tr th:only-of-type {\n",
       "        vertical-align: middle;\n",
       "    }\n",
       "\n",
       "    .dataframe tbody tr th {\n",
       "        vertical-align: top;\n",
       "    }\n",
       "\n",
       "    .dataframe thead th {\n",
       "        text-align: right;\n",
       "    }\n",
       "</style>\n",
       "<table border=\"1\" class=\"dataframe\">\n",
       "  <thead>\n",
       "    <tr style=\"text-align: right;\">\n",
       "      <th></th>\n",
       "      <th>id</th>\n",
       "      <th>date</th>\n",
       "      <th>store_nbr</th>\n",
       "      <th>item_nbr</th>\n",
       "      <th>unit_sales</th>\n",
       "      <th>onpromotion</th>\n",
       "      <th>city</th>\n",
       "      <th>state</th>\n",
       "      <th>type</th>\n",
       "      <th>cluster</th>\n",
       "      <th>type_y</th>\n",
       "      <th>locale</th>\n",
       "      <th>locale_name</th>\n",
       "      <th>description</th>\n",
       "      <th>transferred</th>\n",
       "      <th>family</th>\n",
       "      <th>class</th>\n",
       "      <th>perishable</th>\n",
       "      <th>dcoilwtico</th>\n",
       "      <th>transactions</th>\n",
       "    </tr>\n",
       "  </thead>\n",
       "  <tbody>\n",
       "    <tr>\n",
       "      <th>0</th>\n",
       "      <td>0</td>\n",
       "      <td>2013-01-01</td>\n",
       "      <td>25</td>\n",
       "      <td>103665</td>\n",
       "      <td>7.0</td>\n",
       "      <td>NaN</td>\n",
       "      <td>Puyo</td>\n",
       "      <td>Pastaza</td>\n",
       "      <td>C</td>\n",
       "      <td>7</td>\n",
       "      <td>NaN</td>\n",
       "      <td>NaN</td>\n",
       "      <td>NaN</td>\n",
       "      <td>NaN</td>\n",
       "      <td>NaN</td>\n",
       "      <td>BREAD/BAKERY</td>\n",
       "      <td>2712</td>\n",
       "      <td>1</td>\n",
       "      <td>NaN</td>\n",
       "      <td>NaN</td>\n",
       "    </tr>\n",
       "    <tr>\n",
       "      <th>1</th>\n",
       "      <td>1</td>\n",
       "      <td>2013-01-01</td>\n",
       "      <td>25</td>\n",
       "      <td>105574</td>\n",
       "      <td>1.0</td>\n",
       "      <td>NaN</td>\n",
       "      <td>Puyo</td>\n",
       "      <td>Pastaza</td>\n",
       "      <td>C</td>\n",
       "      <td>7</td>\n",
       "      <td>NaN</td>\n",
       "      <td>NaN</td>\n",
       "      <td>NaN</td>\n",
       "      <td>NaN</td>\n",
       "      <td>NaN</td>\n",
       "      <td>GROCERY I</td>\n",
       "      <td>1045</td>\n",
       "      <td>0</td>\n",
       "      <td>NaN</td>\n",
       "      <td>NaN</td>\n",
       "    </tr>\n",
       "    <tr>\n",
       "      <th>2</th>\n",
       "      <td>2</td>\n",
       "      <td>2013-01-01</td>\n",
       "      <td>25</td>\n",
       "      <td>105575</td>\n",
       "      <td>2.0</td>\n",
       "      <td>NaN</td>\n",
       "      <td>Puyo</td>\n",
       "      <td>Pastaza</td>\n",
       "      <td>C</td>\n",
       "      <td>7</td>\n",
       "      <td>NaN</td>\n",
       "      <td>NaN</td>\n",
       "      <td>NaN</td>\n",
       "      <td>NaN</td>\n",
       "      <td>NaN</td>\n",
       "      <td>GROCERY I</td>\n",
       "      <td>1045</td>\n",
       "      <td>0</td>\n",
       "      <td>NaN</td>\n",
       "      <td>NaN</td>\n",
       "    </tr>\n",
       "    <tr>\n",
       "      <th>3</th>\n",
       "      <td>3</td>\n",
       "      <td>2013-01-01</td>\n",
       "      <td>25</td>\n",
       "      <td>108079</td>\n",
       "      <td>1.0</td>\n",
       "      <td>NaN</td>\n",
       "      <td>Puyo</td>\n",
       "      <td>Pastaza</td>\n",
       "      <td>C</td>\n",
       "      <td>7</td>\n",
       "      <td>NaN</td>\n",
       "      <td>NaN</td>\n",
       "      <td>NaN</td>\n",
       "      <td>NaN</td>\n",
       "      <td>NaN</td>\n",
       "      <td>GROCERY I</td>\n",
       "      <td>1030</td>\n",
       "      <td>0</td>\n",
       "      <td>NaN</td>\n",
       "      <td>NaN</td>\n",
       "    </tr>\n",
       "    <tr>\n",
       "      <th>4</th>\n",
       "      <td>4</td>\n",
       "      <td>2013-01-01</td>\n",
       "      <td>25</td>\n",
       "      <td>108701</td>\n",
       "      <td>1.0</td>\n",
       "      <td>NaN</td>\n",
       "      <td>Puyo</td>\n",
       "      <td>Pastaza</td>\n",
       "      <td>C</td>\n",
       "      <td>7</td>\n",
       "      <td>NaN</td>\n",
       "      <td>NaN</td>\n",
       "      <td>NaN</td>\n",
       "      <td>NaN</td>\n",
       "      <td>NaN</td>\n",
       "      <td>DELI</td>\n",
       "      <td>2644</td>\n",
       "      <td>1</td>\n",
       "      <td>NaN</td>\n",
       "      <td>NaN</td>\n",
       "    </tr>\n",
       "  </tbody>\n",
       "</table>\n",
       "</div>"
      ],
      "text/plain": [
       "   id        date store_nbr item_nbr unit_sales onpromotion  city    state  \\\n",
       "0   0  2013-01-01        25   103665        7.0         NaN  Puyo  Pastaza   \n",
       "1   1  2013-01-01        25   105574        1.0         NaN  Puyo  Pastaza   \n",
       "2   2  2013-01-01        25   105575        2.0         NaN  Puyo  Pastaza   \n",
       "3   3  2013-01-01        25   108079        1.0         NaN  Puyo  Pastaza   \n",
       "4   4  2013-01-01        25   108701        1.0         NaN  Puyo  Pastaza   \n",
       "\n",
       "  type cluster type_y locale locale_name description transferred  \\\n",
       "0    C       7    NaN    NaN         NaN         NaN         NaN   \n",
       "1    C       7    NaN    NaN         NaN         NaN         NaN   \n",
       "2    C       7    NaN    NaN         NaN         NaN         NaN   \n",
       "3    C       7    NaN    NaN         NaN         NaN         NaN   \n",
       "4    C       7    NaN    NaN         NaN         NaN         NaN   \n",
       "\n",
       "         family class perishable  dcoilwtico transactions  \n",
       "0  BREAD/BAKERY  2712          1         NaN          NaN  \n",
       "1     GROCERY I  1045          0         NaN          NaN  \n",
       "2     GROCERY I  1045          0         NaN          NaN  \n",
       "3     GROCERY I  1030          0         NaN          NaN  \n",
       "4          DELI  2644          1         NaN          NaN  "
      ]
     },
     "execution_count": 54,
     "metadata": {},
     "output_type": "execute_result"
    }
   ],
   "source": [
    "df.head()"
   ]
  },
  {
   "cell_type": "code",
   "execution_count": 55,
   "metadata": {
    "ExecuteTime": {
     "end_time": "2018-09-26T11:30:46.239477Z",
     "start_time": "2018-09-26T11:30:46.214111Z"
    }
   },
   "outputs": [],
   "source": [
    "# DataFrameSummary(df).summary()"
   ]
  },
  {
   "cell_type": "markdown",
   "metadata": {},
   "source": [
    "## Save"
   ]
  },
  {
   "cell_type": "code",
   "execution_count": 56,
   "metadata": {
    "ExecuteTime": {
     "end_time": "2018-09-26T11:31:01.664929Z",
     "start_time": "2018-09-26T11:30:46.242792Z"
    }
   },
   "outputs": [],
   "source": [
    "df.to_feather(f'{PATH}df_all_csv.feather')"
   ]
  },
  {
   "cell_type": "code",
   "execution_count": 57,
   "metadata": {
    "ExecuteTime": {
     "end_time": "2018-09-26T11:31:02.487012Z",
     "start_time": "2018-09-26T11:31:01.669730Z"
    }
   },
   "outputs": [
    {
     "name": "stdout",
     "output_type": "stream",
     "text": [
      "total 11G\r\n",
      "-rw-r--r-- 1 paperspace paperspace 4.0G Sep 26 18:30 df_all_csv.feather\r\n",
      "-rw-rw-r-- 1 paperspace paperspace  22K Oct 19  2017 holidays_events.csv\r\n",
      "-rw-r--r-- 1 paperspace paperspace  11K Sep 26 14:23 holidays_events.feather\r\n",
      "-rw-rw-r-- 1 paperspace paperspace 100K Oct 19  2017 items.csv\r\n",
      "-rw-r--r-- 1 paperspace paperspace  71K Sep 26 14:23 items.feather\r\n",
      "-rw-rw-r-- 1 paperspace paperspace  21K Oct 19  2017 oil.csv\r\n",
      "-rw-r--r-- 1 paperspace paperspace  25K Sep 25 13:44 oil.feather\r\n",
      "-rw-rw-r-- 1 paperspace paperspace  39M Oct 19  2017 sample_submission.csv\r\n",
      "-rw-rw-r-- 1 paperspace paperspace 1.4K Oct 19  2017 stores.csv\r\n",
      "-rw-r--r-- 1 paperspace paperspace 2.0K Sep 26 14:23 stores.feather\r\n",
      "-rw-rw-r-- 1 paperspace paperspace 121M Oct 19  2017 test.csv\r\n",
      "-rw-r--r-- 1 paperspace paperspace  29M Sep 26 14:23 test.feather\r\n",
      "-rw-rw-r-- 1 paperspace paperspace 4.7G Oct 19  2017 train.csv\r\n",
      "-rw-r--r-- 1 paperspace paperspace 1.7G Sep 26 14:23 train.feather\r\n",
      "-rw-rw-r-- 1 paperspace paperspace 1.5M Oct 19  2017 transactions.csv\r\n",
      "-rw-r--r-- 1 paperspace paperspace 470K Sep 26 14:23 transactions.feather\r\n"
     ]
    }
   ],
   "source": [
    "!ls -lh {PATH}"
   ]
  },
  {
   "cell_type": "code",
   "execution_count": 58,
   "metadata": {
    "ExecuteTime": {
     "end_time": "2018-09-26T11:32:46.183061Z",
     "start_time": "2018-09-26T11:31:02.490624Z"
    }
   },
   "outputs": [
    {
     "name": "stdout",
     "output_type": "stream",
     "text": [
      "Once deleted, variables cannot be recovered. Proceed (y/[n])? y\n"
     ]
    }
   ],
   "source": [
    "%reset"
   ]
  },
  {
   "cell_type": "markdown",
   "metadata": {},
   "source": [
    "# Read and Test"
   ]
  },
  {
   "cell_type": "markdown",
   "metadata": {},
   "source": [
    "## Read from Feather"
   ]
  },
  {
   "cell_type": "code",
   "execution_count": 64,
   "metadata": {
    "ExecuteTime": {
     "end_time": "2018-09-26T11:33:31.910469Z",
     "start_time": "2018-09-26T11:33:06.844669Z"
    }
   },
   "outputs": [],
   "source": [
    "df = pd.read_feather(f'{PATH}df_all_csv.feather') "
   ]
  },
  {
   "cell_type": "code",
   "execution_count": 65,
   "metadata": {
    "ExecuteTime": {
     "end_time": "2018-09-26T11:33:31.987005Z",
     "start_time": "2018-09-26T11:33:31.912736Z"
    }
   },
   "outputs": [
    {
     "name": "stdout",
     "output_type": "stream",
     "text": [
      "<class 'pandas.core.frame.DataFrame'>\n",
      "RangeIndex: 125497040 entries, 0 to 125497039\n",
      "Data columns (total 20 columns):\n",
      "id              uint32\n",
      "date            category\n",
      "store_nbr       category\n",
      "item_nbr        category\n",
      "unit_sales      category\n",
      "onpromotion     category\n",
      "city            category\n",
      "state           category\n",
      "type            category\n",
      "cluster         category\n",
      "type_y          category\n",
      "locale          category\n",
      "locale_name     category\n",
      "description     category\n",
      "transferred     category\n",
      "family          category\n",
      "class           category\n",
      "perishable      category\n",
      "dcoilwtico      float32\n",
      "transactions    category\n",
      "dtypes: category(18), float32(1), uint32(1)\n",
      "memory usage: 3.9 GB\n"
     ]
    }
   ],
   "source": [
    "df.info(memory_usage='deep')"
   ]
  },
  {
   "cell_type": "code",
   "execution_count": null,
   "metadata": {
    "ExecuteTime": {
     "end_time": "2018-09-26T11:32:46.469860Z",
     "start_time": "2018-09-26T11:20:33.220Z"
    }
   },
   "outputs": [],
   "source": [
    "# DataFrameSummary(df).summary()"
   ]
  },
  {
   "cell_type": "markdown",
   "metadata": {},
   "source": [
    "# Cases Which Should be Processed"
   ]
  },
  {
   "cell_type": "markdown",
   "metadata": {},
   "source": [
    "Cases which should be processed in data:\n",
    "* Missing values:\n",
    "  * In categorical columns\n",
    "  * In numerical columns. Some strategies: min, max, zero, mean (arithmetic, geometric), random, simple regression, neural network prediction.\n",
    "  * In date and time columns\n",
    "* Missing records:\n",
    "  * If some days are missing\n"
   ]
  },
  {
   "cell_type": "markdown",
   "metadata": {},
   "source": [
    "# Checking"
   ]
  },
  {
   "cell_type": "markdown",
   "metadata": {},
   "source": [
    "Why after joining cvs files some categorical columns does not containt several categories?\n",
    "\n",
    "For example: \n",
    "* `locale` column and `National` category\n",
    "* `transferred` column and `True` category"
   ]
  },
  {
   "cell_type": "markdown",
   "metadata": {},
   "source": [
    "# Missing Values"
   ]
  },
  {
   "cell_type": "code",
   "execution_count": 74,
   "metadata": {
    "ExecuteTime": {
     "end_time": "2018-09-26T11:34:59.139548Z",
     "start_time": "2018-09-26T11:34:02.070074Z"
    }
   },
   "outputs": [
    {
     "name": "stdout",
     "output_type": "stream",
     "text": [
      "For the \"onpromotion\" column, all records = 125497040, with NA = 21657651, good = 103839389\n",
      "For the \"type_y\" column, all records = 125497040, with NA = 125439840, good = 57200\n",
      "For the \"locale\" column, all records = 125497040, with NA = 125439840, good = 57200\n",
      "For the \"locale_name\" column, all records = 125497040, with NA = 125439840, good = 57200\n",
      "For the \"description\" column, all records = 125497040, with NA = 125439840, good = 57200\n",
      "For the \"transferred\" column, all records = 125497040, with NA = 125439840, good = 57200\n",
      "For the \"dcoilwtico\" column, all records = 125497040, with NA = 40522930, good = 84974110\n",
      "For the \"transactions\" column, all records = 125497040, with NA = 7347422, good = 118149618\n"
     ]
    },
    {
     "data": {
      "text/plain": [
       "[]"
      ]
     },
     "execution_count": 74,
     "metadata": {},
     "output_type": "execute_result"
    }
   ],
   "source": [
    "missing_values(df)"
   ]
  },
  {
   "cell_type": "markdown",
   "metadata": {},
   "source": [
    "## `Onpromotion` Column"
   ]
  },
  {
   "cell_type": "code",
   "execution_count": 75,
   "metadata": {
    "ExecuteTime": {
     "end_time": "2018-09-26T11:34:59.191980Z",
     "start_time": "2018-09-26T11:34:59.141662Z"
    }
   },
   "outputs": [
    {
     "data": {
      "text/plain": [
       "CategoricalDtype(categories=['False', 'True'], ordered=False)"
      ]
     },
     "execution_count": 75,
     "metadata": {},
     "output_type": "execute_result"
    }
   ],
   "source": [
    "df.onpromotion.dtypes"
   ]
  },
  {
   "cell_type": "code",
   "execution_count": 76,
   "metadata": {
    "ExecuteTime": {
     "end_time": "2018-09-26T11:34:59.660599Z",
     "start_time": "2018-09-26T11:34:59.194241Z"
    }
   },
   "outputs": [],
   "source": [
    "df.onpromotion.cat.add_categories('Unknown', inplace=True)\n",
    "df['onpromotion'] = df.onpromotion.fillna('Unknown')"
   ]
  },
  {
   "cell_type": "code",
   "execution_count": 77,
   "metadata": {
    "ExecuteTime": {
     "end_time": "2018-09-26T11:34:59.704318Z",
     "start_time": "2018-09-26T11:34:59.662677Z"
    }
   },
   "outputs": [
    {
     "data": {
      "text/plain": [
       "CategoricalDtype(categories=['False', 'True', 'Unknown'], ordered=False)"
      ]
     },
     "execution_count": 77,
     "metadata": {},
     "output_type": "execute_result"
    }
   ],
   "source": [
    "df.onpromotion.dtypes"
   ]
  },
  {
   "cell_type": "code",
   "execution_count": 78,
   "metadata": {
    "ExecuteTime": {
     "end_time": "2018-09-26T11:35:10.959744Z",
     "start_time": "2018-09-26T11:34:59.707363Z"
    }
   },
   "outputs": [
    {
     "name": "stdout",
     "output_type": "stream",
     "text": [
      "\"False\" has 96028767 records\n",
      "\"True\" has 7810622 records\n",
      "\"Unknown\" has 21657651 records\n",
      "\"NA\" has 0 records.\n"
     ]
    }
   ],
   "source": [
    "count_all_categories(df, 'onpromotion')"
   ]
  },
  {
   "cell_type": "markdown",
   "metadata": {},
   "source": [
    "## Categorical Columns"
   ]
  },
  {
   "cell_type": "code",
   "execution_count": 79,
   "metadata": {
    "ExecuteTime": {
     "end_time": "2018-09-26T11:36:08.436033Z",
     "start_time": "2018-09-26T11:35:10.962660Z"
    }
   },
   "outputs": [
    {
     "name": "stdout",
     "output_type": "stream",
     "text": [
      "In \"type_y\" NA's was filled by \"Unknown\" value\n",
      "In \"locale\" NA's was filled by \"Unknown\" value\n",
      "In \"locale_name\" NA's was filled by \"Unknown\" value\n",
      "In \"description\" NA's was filled by \"Unknown\" value\n",
      "In \"transferred\" NA's was filled by \"Unknown\" value\n",
      "In \"dcoilwtico\" NA's was filled by \"0\" value\n",
      "In \"transactions\" NA's was filled by \"Unknown\" value\n"
     ]
    }
   ],
   "source": [
    "fill_na_categories(df)"
   ]
  },
  {
   "cell_type": "code",
   "execution_count": 80,
   "metadata": {
    "ExecuteTime": {
     "end_time": "2018-09-26T11:36:10.756526Z",
     "start_time": "2018-09-26T11:36:08.438238Z"
    }
   },
   "outputs": [
    {
     "data": {
      "text/plain": [
       "[]"
      ]
     },
     "execution_count": 80,
     "metadata": {},
     "output_type": "execute_result"
    }
   ],
   "source": [
    "missing_values(df)"
   ]
  },
  {
   "cell_type": "markdown",
   "metadata": {},
   "source": [
    "## Numerical Columns"
   ]
  },
  {
   "cell_type": "code",
   "execution_count": null,
   "metadata": {},
   "outputs": [],
   "source": [
    "fill_na_numerical(df)"
   ]
  },
  {
   "cell_type": "code",
   "execution_count": null,
   "metadata": {},
   "outputs": [],
   "source": [
    "missing_values(df)"
   ]
  },
  {
   "cell_type": "markdown",
   "metadata": {},
   "source": [
    "## Test"
   ]
  },
  {
   "cell_type": "code",
   "execution_count": 82,
   "metadata": {
    "ExecuteTime": {
     "end_time": "2018-09-26T11:37:01.416360Z",
     "start_time": "2018-09-26T11:37:01.371038Z"
    }
   },
   "outputs": [
    {
     "data": {
      "text/plain": [
       "Index(['id', 'date', 'store_nbr', 'item_nbr', 'unit_sales', 'onpromotion',\n",
       "       'city', 'state', 'type', 'cluster', 'type_y', 'locale', 'locale_name',\n",
       "       'description', 'transferred', 'family', 'class', 'perishable',\n",
       "       'dcoilwtico', 'transactions'],\n",
       "      dtype='object')"
      ]
     },
     "execution_count": 82,
     "metadata": {},
     "output_type": "execute_result"
    }
   ],
   "source": [
    "df.columns"
   ]
  },
  {
   "cell_type": "code",
   "execution_count": 83,
   "metadata": {
    "ExecuteTime": {
     "end_time": "2018-09-26T11:37:03.553993Z",
     "start_time": "2018-09-26T11:37:03.481352Z"
    }
   },
   "outputs": [
    {
     "name": "stdout",
     "output_type": "stream",
     "text": [
      "<class 'pandas.core.frame.DataFrame'>\n",
      "RangeIndex: 125497040 entries, 0 to 125497039\n",
      "Data columns (total 20 columns):\n",
      "id              uint32\n",
      "date            category\n",
      "store_nbr       category\n",
      "item_nbr        category\n",
      "unit_sales      category\n",
      "onpromotion     category\n",
      "city            category\n",
      "state           category\n",
      "type            category\n",
      "cluster         category\n",
      "type_y          category\n",
      "locale          category\n",
      "locale_name     category\n",
      "description     category\n",
      "transferred     category\n",
      "family          category\n",
      "class           category\n",
      "perishable      category\n",
      "dcoilwtico      float32\n",
      "transactions    category\n",
      "dtypes: category(18), float32(1), uint32(1)\n",
      "memory usage: 3.9 GB\n"
     ]
    }
   ],
   "source": [
    "df.info(memory_usage='deep')"
   ]
  },
  {
   "cell_type": "code",
   "execution_count": 84,
   "metadata": {
    "ExecuteTime": {
     "end_time": "2018-09-26T11:37:07.817656Z",
     "start_time": "2018-09-26T11:37:07.740008Z"
    }
   },
   "outputs": [
    {
     "data": {
      "text/html": [
       "<div>\n",
       "<style scoped>\n",
       "    .dataframe tbody tr th:only-of-type {\n",
       "        vertical-align: middle;\n",
       "    }\n",
       "\n",
       "    .dataframe tbody tr th {\n",
       "        vertical-align: top;\n",
       "    }\n",
       "\n",
       "    .dataframe thead th {\n",
       "        text-align: right;\n",
       "    }\n",
       "</style>\n",
       "<table border=\"1\" class=\"dataframe\">\n",
       "  <thead>\n",
       "    <tr style=\"text-align: right;\">\n",
       "      <th></th>\n",
       "      <th>id</th>\n",
       "      <th>date</th>\n",
       "      <th>store_nbr</th>\n",
       "      <th>item_nbr</th>\n",
       "      <th>unit_sales</th>\n",
       "      <th>onpromotion</th>\n",
       "      <th>city</th>\n",
       "      <th>state</th>\n",
       "      <th>type</th>\n",
       "      <th>cluster</th>\n",
       "      <th>type_y</th>\n",
       "      <th>locale</th>\n",
       "      <th>locale_name</th>\n",
       "      <th>description</th>\n",
       "      <th>transferred</th>\n",
       "      <th>family</th>\n",
       "      <th>class</th>\n",
       "      <th>perishable</th>\n",
       "      <th>dcoilwtico</th>\n",
       "      <th>transactions</th>\n",
       "    </tr>\n",
       "  </thead>\n",
       "  <tbody>\n",
       "    <tr>\n",
       "      <th>0</th>\n",
       "      <td>0</td>\n",
       "      <td>2013-01-01</td>\n",
       "      <td>25</td>\n",
       "      <td>103665</td>\n",
       "      <td>7.0</td>\n",
       "      <td>Unknown</td>\n",
       "      <td>Puyo</td>\n",
       "      <td>Pastaza</td>\n",
       "      <td>C</td>\n",
       "      <td>7</td>\n",
       "      <td>Unknown</td>\n",
       "      <td>Unknown</td>\n",
       "      <td>Unknown</td>\n",
       "      <td>Unknown</td>\n",
       "      <td>Unknown</td>\n",
       "      <td>BREAD/BAKERY</td>\n",
       "      <td>2712</td>\n",
       "      <td>1</td>\n",
       "      <td>0.0</td>\n",
       "      <td>Unknown</td>\n",
       "    </tr>\n",
       "    <tr>\n",
       "      <th>1</th>\n",
       "      <td>1</td>\n",
       "      <td>2013-01-01</td>\n",
       "      <td>25</td>\n",
       "      <td>105574</td>\n",
       "      <td>1.0</td>\n",
       "      <td>Unknown</td>\n",
       "      <td>Puyo</td>\n",
       "      <td>Pastaza</td>\n",
       "      <td>C</td>\n",
       "      <td>7</td>\n",
       "      <td>Unknown</td>\n",
       "      <td>Unknown</td>\n",
       "      <td>Unknown</td>\n",
       "      <td>Unknown</td>\n",
       "      <td>Unknown</td>\n",
       "      <td>GROCERY I</td>\n",
       "      <td>1045</td>\n",
       "      <td>0</td>\n",
       "      <td>0.0</td>\n",
       "      <td>Unknown</td>\n",
       "    </tr>\n",
       "    <tr>\n",
       "      <th>2</th>\n",
       "      <td>2</td>\n",
       "      <td>2013-01-01</td>\n",
       "      <td>25</td>\n",
       "      <td>105575</td>\n",
       "      <td>2.0</td>\n",
       "      <td>Unknown</td>\n",
       "      <td>Puyo</td>\n",
       "      <td>Pastaza</td>\n",
       "      <td>C</td>\n",
       "      <td>7</td>\n",
       "      <td>Unknown</td>\n",
       "      <td>Unknown</td>\n",
       "      <td>Unknown</td>\n",
       "      <td>Unknown</td>\n",
       "      <td>Unknown</td>\n",
       "      <td>GROCERY I</td>\n",
       "      <td>1045</td>\n",
       "      <td>0</td>\n",
       "      <td>0.0</td>\n",
       "      <td>Unknown</td>\n",
       "    </tr>\n",
       "    <tr>\n",
       "      <th>3</th>\n",
       "      <td>3</td>\n",
       "      <td>2013-01-01</td>\n",
       "      <td>25</td>\n",
       "      <td>108079</td>\n",
       "      <td>1.0</td>\n",
       "      <td>Unknown</td>\n",
       "      <td>Puyo</td>\n",
       "      <td>Pastaza</td>\n",
       "      <td>C</td>\n",
       "      <td>7</td>\n",
       "      <td>Unknown</td>\n",
       "      <td>Unknown</td>\n",
       "      <td>Unknown</td>\n",
       "      <td>Unknown</td>\n",
       "      <td>Unknown</td>\n",
       "      <td>GROCERY I</td>\n",
       "      <td>1030</td>\n",
       "      <td>0</td>\n",
       "      <td>0.0</td>\n",
       "      <td>Unknown</td>\n",
       "    </tr>\n",
       "    <tr>\n",
       "      <th>4</th>\n",
       "      <td>4</td>\n",
       "      <td>2013-01-01</td>\n",
       "      <td>25</td>\n",
       "      <td>108701</td>\n",
       "      <td>1.0</td>\n",
       "      <td>Unknown</td>\n",
       "      <td>Puyo</td>\n",
       "      <td>Pastaza</td>\n",
       "      <td>C</td>\n",
       "      <td>7</td>\n",
       "      <td>Unknown</td>\n",
       "      <td>Unknown</td>\n",
       "      <td>Unknown</td>\n",
       "      <td>Unknown</td>\n",
       "      <td>Unknown</td>\n",
       "      <td>DELI</td>\n",
       "      <td>2644</td>\n",
       "      <td>1</td>\n",
       "      <td>0.0</td>\n",
       "      <td>Unknown</td>\n",
       "    </tr>\n",
       "  </tbody>\n",
       "</table>\n",
       "</div>"
      ],
      "text/plain": [
       "   id        date store_nbr item_nbr unit_sales onpromotion  city    state  \\\n",
       "0   0  2013-01-01        25   103665        7.0     Unknown  Puyo  Pastaza   \n",
       "1   1  2013-01-01        25   105574        1.0     Unknown  Puyo  Pastaza   \n",
       "2   2  2013-01-01        25   105575        2.0     Unknown  Puyo  Pastaza   \n",
       "3   3  2013-01-01        25   108079        1.0     Unknown  Puyo  Pastaza   \n",
       "4   4  2013-01-01        25   108701        1.0     Unknown  Puyo  Pastaza   \n",
       "\n",
       "  type cluster   type_y   locale locale_name description transferred  \\\n",
       "0    C       7  Unknown  Unknown     Unknown     Unknown     Unknown   \n",
       "1    C       7  Unknown  Unknown     Unknown     Unknown     Unknown   \n",
       "2    C       7  Unknown  Unknown     Unknown     Unknown     Unknown   \n",
       "3    C       7  Unknown  Unknown     Unknown     Unknown     Unknown   \n",
       "4    C       7  Unknown  Unknown     Unknown     Unknown     Unknown   \n",
       "\n",
       "         family class perishable  dcoilwtico transactions  \n",
       "0  BREAD/BAKERY  2712          1         0.0      Unknown  \n",
       "1     GROCERY I  1045          0         0.0      Unknown  \n",
       "2     GROCERY I  1045          0         0.0      Unknown  \n",
       "3     GROCERY I  1030          0         0.0      Unknown  \n",
       "4          DELI  2644          1         0.0      Unknown  "
      ]
     },
     "execution_count": 84,
     "metadata": {},
     "output_type": "execute_result"
    }
   ],
   "source": [
    "df.head()"
   ]
  },
  {
   "cell_type": "code",
   "execution_count": 85,
   "metadata": {
    "ExecuteTime": {
     "end_time": "2018-09-26T11:38:45.037655Z",
     "start_time": "2018-09-26T11:37:16.281763Z"
    }
   },
   "outputs": [
    {
     "name": "stdout",
     "output_type": "stream",
     "text": [
      "The \u001b[1m\"date\"\u001b[0m column has several categories\n",
      "The number of categories is 1684.\n",
      "First 5 categories are: ['2013-01-01', '2013-01-02', '2013-01-03', '2013-01-04', '2013-01-05'].\n",
      "The category \"Unknown\" has 0 records.\n",
      "\"NA\" has 0 records.\n",
      "\n",
      "\n",
      "The \u001b[1m\"store_nbr\"\u001b[0m column has several categories\n",
      "The number of categories is 54.\n",
      "First 5 categories are: ['1', '10', '11', '12', '13'].\n",
      "The category \"Unknown\" has 0 records.\n",
      "\"NA\" has 0 records.\n",
      "\n",
      "\n",
      "The \u001b[1m\"item_nbr\"\u001b[0m column has several categories\n",
      "The number of categories is 4036.\n",
      "First 5 categories are: ['1000866', '1001305', '1003679', '1004545', '1004550'].\n",
      "The category \"Unknown\" has 0 records.\n",
      "\"NA\" has 0 records.\n",
      "\n",
      "\n",
      "The \u001b[1m\"unit_sales\"\u001b[0m column has several categories\n",
      "The number of categories is 258474.\n",
      "First 5 categories are: ['-1.0', '-19.0', '-2.0', '-27.0', '-3.0'].\n",
      "The category \"Unknown\" has 0 records.\n",
      "\"NA\" has 0 records.\n",
      "\n",
      "\n",
      "The \u001b[1m\"onpromotion\"\u001b[0m column has several categories\n",
      "\"False\" has 96028767 records\n",
      "\"True\" has 7810622 records\n",
      "\"Unknown\" has 21657651 records\n",
      "\"NA\" has 0 records.\n",
      "\n",
      "\n",
      "The \u001b[1m\"city\"\u001b[0m column has several categories\n",
      "The number of categories is 22.\n",
      "First 5 categories are: ['Ambato', 'Babahoyo', 'Cayambe', 'Cuenca', 'Daule'].\n",
      "The category \"Unknown\" has 0 records.\n",
      "\"NA\" has 0 records.\n",
      "\n",
      "\n",
      "The \u001b[1m\"state\"\u001b[0m column has several categories\n",
      "The number of categories is 16.\n",
      "First 5 categories are: ['Azuay', 'Bolivar', 'Chimborazo', 'Cotopaxi', 'El Oro'].\n",
      "The category \"Unknown\" has 0 records.\n",
      "\"NA\" has 0 records.\n",
      "\n",
      "\n",
      "The \u001b[1m\"type\"\u001b[0m column has several categories\n",
      "\"A\" has 23402365 records\n",
      "\"B\" has 17730360 records\n",
      "\"C\" has 32530889 records\n",
      "\"D\" has 42663757 records\n",
      "\"E\" has 9169669 records\n",
      "\"NA\" has 0 records.\n",
      "\n",
      "\n",
      "The \u001b[1m\"cluster\"\u001b[0m column has several categories\n",
      "The number of categories is 17.\n",
      "First 5 categories are: ['1', '10', '11', '12', '13'].\n",
      "The category \"Unknown\" has 0 records.\n",
      "\"NA\" has 0 records.\n",
      "\n",
      "\n",
      "The \u001b[1m\"type_y\"\u001b[0m column has several categories\n",
      "The number of categories is 7.\n",
      "First 5 categories are: ['Additional', 'Bridge', 'Event', 'Holiday', 'Transfer'].\n",
      "The category \"Unknown\" has 125439840 records.\n",
      "\"NA\" has 0 records.\n",
      "\n",
      "\n",
      "The \u001b[1m\"locale\"\u001b[0m column has several categories\n",
      "\"Local\" has 15191 records\n",
      "\"National\" has 0 records\n",
      "\"Regional\" has 42009 records\n",
      "\"Unknown\" has 125439840 records\n",
      "\"NA\" has 0 records.\n",
      "\n",
      "\n",
      "The \u001b[1m\"locale_name\"\u001b[0m column has several categories\n",
      "The number of categories is 25.\n",
      "First 5 categories are: ['Ambato', 'Cayambe', 'Cotopaxi', 'Cuenca', 'Ecuador'].\n",
      "The category \"Unknown\" has 125439840 records.\n",
      "\"NA\" has 0 records.\n",
      "\n",
      "\n",
      "The \u001b[1m\"description\"\u001b[0m column has several categories\n",
      "The number of categories is 104.\n",
      "First 5 categories are: ['Batalla de Pichincha', 'Black Friday', 'Cantonizacion de Cayambe', 'Cantonizacion de El Carmen', 'Cantonizacion de Guaranda'].\n",
      "The category \"Unknown\" has 125439840 records.\n",
      "\"NA\" has 0 records.\n",
      "\n",
      "\n",
      "The \u001b[1m\"transferred\"\u001b[0m column has several categories\n",
      "\"False\" has 57200 records\n",
      "\"True\" has 0 records\n",
      "\"Unknown\" has 125439840 records\n",
      "\"NA\" has 0 records.\n",
      "\n",
      "\n",
      "The \u001b[1m\"family\"\u001b[0m column has several categories\n",
      "The number of categories is 33.\n",
      "First 5 categories are: ['AUTOMOTIVE', 'BABY CARE', 'BEAUTY', 'BEVERAGES', 'BOOKS'].\n",
      "The category \"Unknown\" has 0 records.\n",
      "\"NA\" has 0 records.\n",
      "\n",
      "\n",
      "The \u001b[1m\"class\"\u001b[0m column has several categories\n",
      "The number of categories is 337.\n",
      "First 5 categories are: ['1002', '1003', '1004', '1005', '1006'].\n",
      "The category \"Unknown\" has 0 records.\n",
      "\"NA\" has 0 records.\n",
      "\n",
      "\n",
      "The \u001b[1m\"perishable\"\u001b[0m column has several categories\n",
      "\"0\" has 93794504 records\n",
      "\"1\" has 31702536 records\n",
      "\"NA\" has 0 records.\n",
      "\n",
      "\n",
      "The \u001b[1m\"transactions\"\u001b[0m column has several categories\n",
      "The number of categories is 4994.\n",
      "First 5 categories are: ['10', '1000', '1001', '1002', '1003'].\n",
      "The category \"Unknown\" has 7347422 records.\n",
      "\"NA\" has 0 records.\n",
      "\n",
      "\n"
     ]
    }
   ],
   "source": [
    "show_categories(df)"
   ]
  },
  {
   "cell_type": "markdown",
   "metadata": {},
   "source": [
    "## Save"
   ]
  },
  {
   "cell_type": "code",
   "execution_count": 86,
   "metadata": {
    "ExecuteTime": {
     "end_time": "2018-09-26T11:40:09.040984Z",
     "start_time": "2018-09-26T11:40:03.798048Z"
    }
   },
   "outputs": [],
   "source": [
    "df.to_feather(f'{PATH}df_missing_values.feather')"
   ]
  },
  {
   "cell_type": "code",
   "execution_count": 87,
   "metadata": {
    "ExecuteTime": {
     "end_time": "2018-09-26T11:40:16.235627Z",
     "start_time": "2018-09-26T11:40:15.924335Z"
    }
   },
   "outputs": [
    {
     "name": "stdout",
     "output_type": "stream",
     "text": [
      "total 15G\r\n",
      "-rw-r--r-- 1 paperspace paperspace 4.0G Sep 26 18:30 df_all_csv.feather\r\n",
      "-rw-r--r-- 1 paperspace paperspace 3.9G Sep 26 18:40 df_missing_values.feather\r\n",
      "-rw-rw-r-- 1 paperspace paperspace  22K Oct 19  2017 holidays_events.csv\r\n",
      "-rw-r--r-- 1 paperspace paperspace  11K Sep 26 14:23 holidays_events.feather\r\n",
      "-rw-rw-r-- 1 paperspace paperspace 100K Oct 19  2017 items.csv\r\n",
      "-rw-r--r-- 1 paperspace paperspace  71K Sep 26 14:23 items.feather\r\n",
      "-rw-rw-r-- 1 paperspace paperspace  21K Oct 19  2017 oil.csv\r\n",
      "-rw-r--r-- 1 paperspace paperspace  25K Sep 25 13:44 oil.feather\r\n",
      "-rw-rw-r-- 1 paperspace paperspace  39M Oct 19  2017 sample_submission.csv\r\n",
      "-rw-rw-r-- 1 paperspace paperspace 1.4K Oct 19  2017 stores.csv\r\n",
      "-rw-r--r-- 1 paperspace paperspace 2.0K Sep 26 14:23 stores.feather\r\n",
      "-rw-rw-r-- 1 paperspace paperspace 121M Oct 19  2017 test.csv\r\n",
      "-rw-r--r-- 1 paperspace paperspace  29M Sep 26 14:23 test.feather\r\n",
      "-rw-rw-r-- 1 paperspace paperspace 4.7G Oct 19  2017 train.csv\r\n",
      "-rw-r--r-- 1 paperspace paperspace 1.7G Sep 26 14:23 train.feather\r\n",
      "-rw-rw-r-- 1 paperspace paperspace 1.5M Oct 19  2017 transactions.csv\r\n",
      "-rw-r--r-- 1 paperspace paperspace 470K Sep 26 14:23 transactions.feather\r\n"
     ]
    }
   ],
   "source": [
    "!ls -lh {PATH}"
   ]
  },
  {
   "cell_type": "markdown",
   "metadata": {},
   "source": [
    "# Data cleaning / Feature Engineering"
   ]
  },
  {
   "cell_type": "code",
   "execution_count": null,
   "metadata": {},
   "outputs": [],
   "source": []
  },
  {
   "cell_type": "code",
   "execution_count": null,
   "metadata": {},
   "outputs": [],
   "source": []
  },
  {
   "cell_type": "code",
   "execution_count": null,
   "metadata": {},
   "outputs": [],
   "source": []
  },
  {
   "cell_type": "code",
   "execution_count": null,
   "metadata": {},
   "outputs": [],
   "source": []
  }
 ],
 "metadata": {
  "kernelspec": {
   "display_name": "Python 3",
   "language": "python",
   "name": "python3"
  },
  "language_info": {
   "codemirror_mode": {
    "name": "ipython",
    "version": 3
   },
   "file_extension": ".py",
   "mimetype": "text/x-python",
   "name": "python",
   "nbconvert_exporter": "python",
   "pygments_lexer": "ipython3",
   "version": "3.6.6"
  },
  "toc": {
   "base_numbering": 1,
   "nav_menu": {},
   "number_sections": true,
   "sideBar": true,
   "skip_h1_title": false,
   "title_cell": "Table of Contents",
   "title_sidebar": "Contents",
   "toc_cell": false,
   "toc_position": {
    "height": "calc(100% - 180px)",
    "left": "10px",
    "top": "150px",
    "width": "262px"
   },
   "toc_section_display": true,
   "toc_window_display": true
  }
 },
 "nbformat": 4,
 "nbformat_minor": 2
}
